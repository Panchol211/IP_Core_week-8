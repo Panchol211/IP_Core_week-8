{
  "nbformat": 4,
  "nbformat_minor": 0,
  "metadata": {
    "colab": {
      "name": "Independent Project - Week-8-Core.ipynb",
      "provenance": [],
      "authorship_tag": "ABX9TyOzrEk1qsUQdRMp0SgpUjjE",
      "include_colab_link": true
    },
    "kernelspec": {
      "name": "python3",
      "display_name": "Python 3"
    }
  },
  "cells": [
    {
      "cell_type": "markdown",
      "metadata": {
        "id": "view-in-github",
        "colab_type": "text"
      },
      "source": [
        "<a href=\"https://colab.research.google.com/github/Panchol211/IP_Core_week-8/blob/main/Independent_Project_Week_8_Core.ipynb\" target=\"_parent\"><img src=\"https://colab.research.google.com/assets/colab-badge.svg\" alt=\"Open In Colab\"/></a>"
      ]
    },
    {
      "cell_type": "markdown",
      "metadata": {
        "id": "LnMELKhNktoD"
      },
      "source": [
        "# **DEFINE THE QUESTION**\n",
        "\n",
        "# Build a model that determines whether or not the patient's symptoms indicate that the patient has hypothyroid"
      ]
    },
    {
      "cell_type": "markdown",
      "metadata": {
        "id": "O8qrsLAImiu_"
      },
      "source": [
        "# **METRICS FOR SUCCESS**\n",
        "\n",
        "## Analysis the data, clean and build and implement the models  below and determine which model perform better \n",
        "\n",
        "# Decision Tress\n",
        "\n",
        "# Random Forest\n",
        "\n",
        "# Ada Boost\n",
        "\n",
        "# Svm\n",
        "\n",
        "# Support Vector"
      ]
    },
    {
      "cell_type": "markdown",
      "metadata": {
        "id": "Q6d9LaEUnOD8"
      },
      "source": [
        "# **THE CONTEXT**\n",
        "\n",
        "#Nairobi Hospital conducted a clinical camp to test for hypothyroidism. The data collected focused on Thyroid patients and the hospital want to develop an algorithm that can predict if the patient has hypothoid\n"
      ]
    },
    {
      "cell_type": "markdown",
      "metadata": {
        "id": "-4hAmG0HmZK6"
      },
      "source": [
        "# Importing all Libraries used in the Project"
      ]
    },
    {
      "cell_type": "code",
      "metadata": {
        "id": "SwTJomsWatsC"
      },
      "source": [
        "import numpy as np\n",
        "import pandas as pd\n",
        "import pandas_profiling as pp\n",
        "\n",
        "%matplotlib inline\n",
        "import matplotlib.pylab as plt\n",
        "import seaborn as sns\n",
        "\n",
        "# Import train_test_split\n",
        "from sklearn.model_selection import train_test_split \n",
        "from sklearn.ensemble import RandomForestClassifier\n",
        "\n",
        "from sklearn.tree import DecisionTreeClassifier\n",
        "from sklearn.model_selection import train_test_split\n",
        "\n",
        "# More Imports\n",
        "from sklearn.preprocessing import MinMaxScaler\n",
        "from sklearn.model_selection import train_test_split\n",
        "from sklearn.metrics import classification_report, confusion_matrix\n",
        "from sklearn.ensemble import GradientBoostingClassifier\n",
        "from sklearn.svm import SVC,LinearSVC"
      ],
      "execution_count": 3,
      "outputs": []
    },
    {
      "cell_type": "code",
      "metadata": {
        "id": "LKrREdnOa8LG",
        "outputId": "e3a21778-7330-48a3-ba36-1e0b9d404b9f",
        "colab": {
          "base_uri": "https://localhost:8080/",
          "height": 222
        }
      },
      "source": [
        "hyp = pd.read_csv('hypothyroid.csv')\n",
        "hyp.head()"
      ],
      "execution_count": 4,
      "outputs": [
        {
          "output_type": "execute_result",
          "data": {
            "text/html": [
              "<div>\n",
              "<style scoped>\n",
              "    .dataframe tbody tr th:only-of-type {\n",
              "        vertical-align: middle;\n",
              "    }\n",
              "\n",
              "    .dataframe tbody tr th {\n",
              "        vertical-align: top;\n",
              "    }\n",
              "\n",
              "    .dataframe thead th {\n",
              "        text-align: right;\n",
              "    }\n",
              "</style>\n",
              "<table border=\"1\" class=\"dataframe\">\n",
              "  <thead>\n",
              "    <tr style=\"text-align: right;\">\n",
              "      <th></th>\n",
              "      <th>status</th>\n",
              "      <th>age</th>\n",
              "      <th>sex</th>\n",
              "      <th>on_thyroxine</th>\n",
              "      <th>query_on_thyroxine</th>\n",
              "      <th>on_antithyroid_medication</th>\n",
              "      <th>thyroid_surgery</th>\n",
              "      <th>query_hypothyroid</th>\n",
              "      <th>query_hyperthyroid</th>\n",
              "      <th>pregnant</th>\n",
              "      <th>sick</th>\n",
              "      <th>tumor</th>\n",
              "      <th>lithium</th>\n",
              "      <th>goitre</th>\n",
              "      <th>TSH_measured</th>\n",
              "      <th>TSH</th>\n",
              "      <th>T3_measured</th>\n",
              "      <th>T3</th>\n",
              "      <th>TT4_measured</th>\n",
              "      <th>TT4</th>\n",
              "      <th>T4U_measured</th>\n",
              "      <th>T4U</th>\n",
              "      <th>FTI_measured</th>\n",
              "      <th>FTI</th>\n",
              "      <th>TBG_measured</th>\n",
              "      <th>TBG</th>\n",
              "    </tr>\n",
              "  </thead>\n",
              "  <tbody>\n",
              "    <tr>\n",
              "      <th>0</th>\n",
              "      <td>hypothyroid</td>\n",
              "      <td>72</td>\n",
              "      <td>M</td>\n",
              "      <td>f</td>\n",
              "      <td>f</td>\n",
              "      <td>f</td>\n",
              "      <td>f</td>\n",
              "      <td>f</td>\n",
              "      <td>f</td>\n",
              "      <td>f</td>\n",
              "      <td>f</td>\n",
              "      <td>f</td>\n",
              "      <td>f</td>\n",
              "      <td>f</td>\n",
              "      <td>y</td>\n",
              "      <td>30</td>\n",
              "      <td>y</td>\n",
              "      <td>0.60</td>\n",
              "      <td>y</td>\n",
              "      <td>15</td>\n",
              "      <td>y</td>\n",
              "      <td>1.48</td>\n",
              "      <td>y</td>\n",
              "      <td>10</td>\n",
              "      <td>n</td>\n",
              "      <td>?</td>\n",
              "    </tr>\n",
              "    <tr>\n",
              "      <th>1</th>\n",
              "      <td>hypothyroid</td>\n",
              "      <td>15</td>\n",
              "      <td>F</td>\n",
              "      <td>t</td>\n",
              "      <td>f</td>\n",
              "      <td>f</td>\n",
              "      <td>f</td>\n",
              "      <td>f</td>\n",
              "      <td>f</td>\n",
              "      <td>f</td>\n",
              "      <td>f</td>\n",
              "      <td>f</td>\n",
              "      <td>f</td>\n",
              "      <td>f</td>\n",
              "      <td>y</td>\n",
              "      <td>145</td>\n",
              "      <td>y</td>\n",
              "      <td>1.70</td>\n",
              "      <td>y</td>\n",
              "      <td>19</td>\n",
              "      <td>y</td>\n",
              "      <td>1.13</td>\n",
              "      <td>y</td>\n",
              "      <td>17</td>\n",
              "      <td>n</td>\n",
              "      <td>?</td>\n",
              "    </tr>\n",
              "    <tr>\n",
              "      <th>2</th>\n",
              "      <td>hypothyroid</td>\n",
              "      <td>24</td>\n",
              "      <td>M</td>\n",
              "      <td>f</td>\n",
              "      <td>f</td>\n",
              "      <td>f</td>\n",
              "      <td>f</td>\n",
              "      <td>f</td>\n",
              "      <td>f</td>\n",
              "      <td>f</td>\n",
              "      <td>f</td>\n",
              "      <td>f</td>\n",
              "      <td>f</td>\n",
              "      <td>f</td>\n",
              "      <td>y</td>\n",
              "      <td>0</td>\n",
              "      <td>y</td>\n",
              "      <td>0.20</td>\n",
              "      <td>y</td>\n",
              "      <td>4</td>\n",
              "      <td>y</td>\n",
              "      <td>1</td>\n",
              "      <td>y</td>\n",
              "      <td>0</td>\n",
              "      <td>n</td>\n",
              "      <td>?</td>\n",
              "    </tr>\n",
              "    <tr>\n",
              "      <th>3</th>\n",
              "      <td>hypothyroid</td>\n",
              "      <td>24</td>\n",
              "      <td>F</td>\n",
              "      <td>f</td>\n",
              "      <td>f</td>\n",
              "      <td>f</td>\n",
              "      <td>f</td>\n",
              "      <td>f</td>\n",
              "      <td>f</td>\n",
              "      <td>f</td>\n",
              "      <td>f</td>\n",
              "      <td>f</td>\n",
              "      <td>f</td>\n",
              "      <td>f</td>\n",
              "      <td>y</td>\n",
              "      <td>430</td>\n",
              "      <td>y</td>\n",
              "      <td>0.40</td>\n",
              "      <td>y</td>\n",
              "      <td>6</td>\n",
              "      <td>y</td>\n",
              "      <td>1.04</td>\n",
              "      <td>y</td>\n",
              "      <td>6</td>\n",
              "      <td>n</td>\n",
              "      <td>?</td>\n",
              "    </tr>\n",
              "    <tr>\n",
              "      <th>4</th>\n",
              "      <td>hypothyroid</td>\n",
              "      <td>77</td>\n",
              "      <td>M</td>\n",
              "      <td>f</td>\n",
              "      <td>f</td>\n",
              "      <td>f</td>\n",
              "      <td>f</td>\n",
              "      <td>f</td>\n",
              "      <td>f</td>\n",
              "      <td>f</td>\n",
              "      <td>f</td>\n",
              "      <td>f</td>\n",
              "      <td>f</td>\n",
              "      <td>f</td>\n",
              "      <td>y</td>\n",
              "      <td>7.30</td>\n",
              "      <td>y</td>\n",
              "      <td>1.20</td>\n",
              "      <td>y</td>\n",
              "      <td>57</td>\n",
              "      <td>y</td>\n",
              "      <td>1.28</td>\n",
              "      <td>y</td>\n",
              "      <td>44</td>\n",
              "      <td>n</td>\n",
              "      <td>?</td>\n",
              "    </tr>\n",
              "  </tbody>\n",
              "</table>\n",
              "</div>"
            ],
            "text/plain": [
              "        status age sex on_thyroxine  ... FTI_measured FTI TBG_measured TBG\n",
              "0  hypothyroid  72   M            f  ...            y  10            n   ?\n",
              "1  hypothyroid  15   F            t  ...            y  17            n   ?\n",
              "2  hypothyroid  24   M            f  ...            y   0            n   ?\n",
              "3  hypothyroid  24   F            f  ...            y   6            n   ?\n",
              "4  hypothyroid  77   M            f  ...            y  44            n   ?\n",
              "\n",
              "[5 rows x 26 columns]"
            ]
          },
          "metadata": {
            "tags": []
          },
          "execution_count": 4
        }
      ]
    },
    {
      "cell_type": "code",
      "metadata": {
        "id": "yKWjCyiYsNen",
        "outputId": "656f7b63-72a9-48ac-8f80-d85c689170d8",
        "colab": {
          "base_uri": "https://localhost:8080/",
          "height": 35
        }
      },
      "source": [
        "hyp.shape"
      ],
      "execution_count": 5,
      "outputs": [
        {
          "output_type": "execute_result",
          "data": {
            "text/plain": [
              "(3163, 26)"
            ]
          },
          "metadata": {
            "tags": []
          },
          "execution_count": 5
        }
      ]
    },
    {
      "cell_type": "code",
      "metadata": {
        "id": "cSQj6W10SN7s",
        "outputId": "a713f35b-0ac9-43f0-9b75-c61eec8c9fce",
        "colab": {
          "base_uri": "https://localhost:8080/",
          "height": 589
        }
      },
      "source": [
        "hyp.info()"
      ],
      "execution_count": 6,
      "outputs": [
        {
          "output_type": "stream",
          "text": [
            "<class 'pandas.core.frame.DataFrame'>\n",
            "RangeIndex: 3163 entries, 0 to 3162\n",
            "Data columns (total 26 columns):\n",
            " #   Column                     Non-Null Count  Dtype \n",
            "---  ------                     --------------  ----- \n",
            " 0   status                     3163 non-null   object\n",
            " 1   age                        3163 non-null   object\n",
            " 2   sex                        3163 non-null   object\n",
            " 3   on_thyroxine               3163 non-null   object\n",
            " 4   query_on_thyroxine         3163 non-null   object\n",
            " 5   on_antithyroid_medication  3163 non-null   object\n",
            " 6   thyroid_surgery            3163 non-null   object\n",
            " 7   query_hypothyroid          3163 non-null   object\n",
            " 8   query_hyperthyroid         3163 non-null   object\n",
            " 9   pregnant                   3163 non-null   object\n",
            " 10  sick                       3163 non-null   object\n",
            " 11  tumor                      3163 non-null   object\n",
            " 12  lithium                    3163 non-null   object\n",
            " 13  goitre                     3163 non-null   object\n",
            " 14  TSH_measured               3163 non-null   object\n",
            " 15  TSH                        3163 non-null   object\n",
            " 16  T3_measured                3163 non-null   object\n",
            " 17  T3                         3163 non-null   object\n",
            " 18  TT4_measured               3163 non-null   object\n",
            " 19  TT4                        3163 non-null   object\n",
            " 20  T4U_measured               3163 non-null   object\n",
            " 21  T4U                        3163 non-null   object\n",
            " 22  FTI_measured               3163 non-null   object\n",
            " 23  FTI                        3163 non-null   object\n",
            " 24  TBG_measured               3163 non-null   object\n",
            " 25  TBG                        3163 non-null   object\n",
            "dtypes: object(26)\n",
            "memory usage: 642.6+ KB\n"
          ],
          "name": "stdout"
        }
      ]
    },
    {
      "cell_type": "code",
      "metadata": {
        "id": "OqrhPstth8Gs",
        "outputId": "c72d9123-b77e-4dd9-fc8e-eef956470954",
        "colab": {
          "base_uri": "https://localhost:8080/",
          "height": 191
        }
      },
      "source": [
        "hyp.describe()"
      ],
      "execution_count": 7,
      "outputs": [
        {
          "output_type": "execute_result",
          "data": {
            "text/html": [
              "<div>\n",
              "<style scoped>\n",
              "    .dataframe tbody tr th:only-of-type {\n",
              "        vertical-align: middle;\n",
              "    }\n",
              "\n",
              "    .dataframe tbody tr th {\n",
              "        vertical-align: top;\n",
              "    }\n",
              "\n",
              "    .dataframe thead th {\n",
              "        text-align: right;\n",
              "    }\n",
              "</style>\n",
              "<table border=\"1\" class=\"dataframe\">\n",
              "  <thead>\n",
              "    <tr style=\"text-align: right;\">\n",
              "      <th></th>\n",
              "      <th>status</th>\n",
              "      <th>age</th>\n",
              "      <th>sex</th>\n",
              "      <th>on_thyroxine</th>\n",
              "      <th>query_on_thyroxine</th>\n",
              "      <th>on_antithyroid_medication</th>\n",
              "      <th>thyroid_surgery</th>\n",
              "      <th>query_hypothyroid</th>\n",
              "      <th>query_hyperthyroid</th>\n",
              "      <th>pregnant</th>\n",
              "      <th>sick</th>\n",
              "      <th>tumor</th>\n",
              "      <th>lithium</th>\n",
              "      <th>goitre</th>\n",
              "      <th>TSH_measured</th>\n",
              "      <th>TSH</th>\n",
              "      <th>T3_measured</th>\n",
              "      <th>T3</th>\n",
              "      <th>TT4_measured</th>\n",
              "      <th>TT4</th>\n",
              "      <th>T4U_measured</th>\n",
              "      <th>T4U</th>\n",
              "      <th>FTI_measured</th>\n",
              "      <th>FTI</th>\n",
              "      <th>TBG_measured</th>\n",
              "      <th>TBG</th>\n",
              "    </tr>\n",
              "  </thead>\n",
              "  <tbody>\n",
              "    <tr>\n",
              "      <th>count</th>\n",
              "      <td>3163</td>\n",
              "      <td>3163</td>\n",
              "      <td>3163</td>\n",
              "      <td>3163</td>\n",
              "      <td>3163</td>\n",
              "      <td>3163</td>\n",
              "      <td>3163</td>\n",
              "      <td>3163</td>\n",
              "      <td>3163</td>\n",
              "      <td>3163</td>\n",
              "      <td>3163</td>\n",
              "      <td>3163</td>\n",
              "      <td>3163</td>\n",
              "      <td>3163</td>\n",
              "      <td>3163</td>\n",
              "      <td>3163</td>\n",
              "      <td>3163</td>\n",
              "      <td>3163</td>\n",
              "      <td>3163</td>\n",
              "      <td>3163</td>\n",
              "      <td>3163</td>\n",
              "      <td>3163</td>\n",
              "      <td>3163</td>\n",
              "      <td>3163</td>\n",
              "      <td>3163</td>\n",
              "      <td>3163</td>\n",
              "    </tr>\n",
              "    <tr>\n",
              "      <th>unique</th>\n",
              "      <td>2</td>\n",
              "      <td>93</td>\n",
              "      <td>3</td>\n",
              "      <td>2</td>\n",
              "      <td>2</td>\n",
              "      <td>2</td>\n",
              "      <td>2</td>\n",
              "      <td>2</td>\n",
              "      <td>2</td>\n",
              "      <td>2</td>\n",
              "      <td>2</td>\n",
              "      <td>2</td>\n",
              "      <td>2</td>\n",
              "      <td>2</td>\n",
              "      <td>2</td>\n",
              "      <td>240</td>\n",
              "      <td>2</td>\n",
              "      <td>70</td>\n",
              "      <td>2</td>\n",
              "      <td>269</td>\n",
              "      <td>2</td>\n",
              "      <td>159</td>\n",
              "      <td>2</td>\n",
              "      <td>281</td>\n",
              "      <td>2</td>\n",
              "      <td>53</td>\n",
              "    </tr>\n",
              "    <tr>\n",
              "      <th>top</th>\n",
              "      <td>negative</td>\n",
              "      <td>?</td>\n",
              "      <td>F</td>\n",
              "      <td>f</td>\n",
              "      <td>f</td>\n",
              "      <td>f</td>\n",
              "      <td>f</td>\n",
              "      <td>f</td>\n",
              "      <td>f</td>\n",
              "      <td>f</td>\n",
              "      <td>f</td>\n",
              "      <td>f</td>\n",
              "      <td>f</td>\n",
              "      <td>f</td>\n",
              "      <td>y</td>\n",
              "      <td>0</td>\n",
              "      <td>y</td>\n",
              "      <td>?</td>\n",
              "      <td>y</td>\n",
              "      <td>?</td>\n",
              "      <td>y</td>\n",
              "      <td>?</td>\n",
              "      <td>y</td>\n",
              "      <td>?</td>\n",
              "      <td>n</td>\n",
              "      <td>?</td>\n",
              "    </tr>\n",
              "    <tr>\n",
              "      <th>freq</th>\n",
              "      <td>3012</td>\n",
              "      <td>446</td>\n",
              "      <td>2182</td>\n",
              "      <td>2702</td>\n",
              "      <td>3108</td>\n",
              "      <td>3121</td>\n",
              "      <td>3059</td>\n",
              "      <td>2922</td>\n",
              "      <td>2920</td>\n",
              "      <td>3100</td>\n",
              "      <td>3064</td>\n",
              "      <td>3123</td>\n",
              "      <td>3161</td>\n",
              "      <td>3064</td>\n",
              "      <td>2695</td>\n",
              "      <td>894</td>\n",
              "      <td>2468</td>\n",
              "      <td>695</td>\n",
              "      <td>2914</td>\n",
              "      <td>249</td>\n",
              "      <td>2915</td>\n",
              "      <td>248</td>\n",
              "      <td>2916</td>\n",
              "      <td>247</td>\n",
              "      <td>2903</td>\n",
              "      <td>2903</td>\n",
              "    </tr>\n",
              "  </tbody>\n",
              "</table>\n",
              "</div>"
            ],
            "text/plain": [
              "          status   age   sex on_thyroxine  ... FTI_measured   FTI TBG_measured   TBG\n",
              "count       3163  3163  3163         3163  ...         3163  3163         3163  3163\n",
              "unique         2    93     3            2  ...            2   281            2    53\n",
              "top     negative     ?     F            f  ...            y     ?            n     ?\n",
              "freq        3012   446  2182         2702  ...         2916   247         2903  2903\n",
              "\n",
              "[4 rows x 26 columns]"
            ]
          },
          "metadata": {
            "tags": []
          },
          "execution_count": 7
        }
      ]
    },
    {
      "cell_type": "code",
      "metadata": {
        "id": "eVYq8Em6EAmH",
        "outputId": "70dd3330-da78-4326-ac22-b043059a3bb0",
        "colab": {
          "base_uri": "https://localhost:8080/",
          "height": 485
        }
      },
      "source": [
        "# Checking for the data types\n",
        "hyp.dtypes"
      ],
      "execution_count": 8,
      "outputs": [
        {
          "output_type": "execute_result",
          "data": {
            "text/plain": [
              "status                       object\n",
              "age                          object\n",
              "sex                          object\n",
              "on_thyroxine                 object\n",
              "query_on_thyroxine           object\n",
              "on_antithyroid_medication    object\n",
              "thyroid_surgery              object\n",
              "query_hypothyroid            object\n",
              "query_hyperthyroid           object\n",
              "pregnant                     object\n",
              "sick                         object\n",
              "tumor                        object\n",
              "lithium                      object\n",
              "goitre                       object\n",
              "TSH_measured                 object\n",
              "TSH                          object\n",
              "T3_measured                  object\n",
              "T3                           object\n",
              "TT4_measured                 object\n",
              "TT4                          object\n",
              "T4U_measured                 object\n",
              "T4U                          object\n",
              "FTI_measured                 object\n",
              "FTI                          object\n",
              "TBG_measured                 object\n",
              "TBG                          object\n",
              "dtype: object"
            ]
          },
          "metadata": {
            "tags": []
          },
          "execution_count": 8
        }
      ]
    },
    {
      "cell_type": "markdown",
      "metadata": {
        "id": "wcoYpTjHER_5"
      },
      "source": [
        "All the datatype are object."
      ]
    },
    {
      "cell_type": "code",
      "metadata": {
        "id": "9LkcPrncShR9",
        "outputId": "789daacb-042d-491e-e489-cf3cede6016f",
        "colab": {
          "base_uri": "https://localhost:8080/",
          "height": 485
        }
      },
      "source": [
        "#checking for null values \n",
        "hyp.isnull().sum().sort_values(ascending=False)"
      ],
      "execution_count": 9,
      "outputs": [
        {
          "output_type": "execute_result",
          "data": {
            "text/plain": [
              "TBG                          0\n",
              "TBG_measured                 0\n",
              "age                          0\n",
              "sex                          0\n",
              "on_thyroxine                 0\n",
              "query_on_thyroxine           0\n",
              "on_antithyroid_medication    0\n",
              "thyroid_surgery              0\n",
              "query_hypothyroid            0\n",
              "query_hyperthyroid           0\n",
              "pregnant                     0\n",
              "sick                         0\n",
              "tumor                        0\n",
              "lithium                      0\n",
              "goitre                       0\n",
              "TSH_measured                 0\n",
              "TSH                          0\n",
              "T3_measured                  0\n",
              "T3                           0\n",
              "TT4_measured                 0\n",
              "TT4                          0\n",
              "T4U_measured                 0\n",
              "T4U                          0\n",
              "FTI_measured                 0\n",
              "FTI                          0\n",
              "status                       0\n",
              "dtype: int64"
            ]
          },
          "metadata": {
            "tags": []
          },
          "execution_count": 9
        }
      ]
    },
    {
      "cell_type": "code",
      "metadata": {
        "id": "s0H-iWjljtlW"
      },
      "source": [
        "data_copy = hyp.copy(deep = True)"
      ],
      "execution_count": 100,
      "outputs": []
    },
    {
      "cell_type": "markdown",
      "metadata": {
        "id": "VrERPakKlVDP"
      },
      "source": [
        "Plot the statistics column wise to visualize the patterns or trends in data"
      ]
    },
    {
      "cell_type": "code",
      "metadata": {
        "id": "ALhX9E9t9U31",
        "outputId": "cab8a7ad-4099-4e48-eba2-fb22130a1a08",
        "colab": {
          "base_uri": "https://localhost:8080/",
          "height": 788
        }
      },
      "source": [
        "#plotting the distribution of different variables \n",
        "p = data_copy.hist(figsize = (20,20))"
      ],
      "execution_count": 102,
      "outputs": [
        {
          "output_type": "display_data",
          "data": {
            "image/png": "[encoded data removed]",
            "text/plain": [
              "<Figure size 1440x1440 with 25 Axes>"
            ]
          },
          "metadata": {
            "tags": [],
            "needs_background": "light"
          }
        }
      ]
    },
    {
      "cell_type": "code",
      "metadata": {
        "id": "9aqEMW2ttIgt",
        "outputId": "f32e94db-16be-4984-f865-372a6aeffbb3",
        "colab": {
          "base_uri": "https://localhost:8080/",
          "height": 1000
        }
      },
      "source": [
        "# Checking for unique values in all columns in the dataset\n",
        "for uni in hyp.columns:\n",
        "#   print(hypo.columns)\n",
        "  print(\"\\t\")\n",
        "  print(hyp[uni].unique())\n"
      ],
      "execution_count": 11,
      "outputs": [
        {
          "output_type": "stream",
          "text": [
            "\t\n",
            "['hypothyroid' 'negative']\n",
            "\t\n",
            "['72' '15' '24' '77' '85' '64' '20' '42' '69' '75' '53' '59' '68' '50'\n",
            " '78' '65' '28' '43' '40' '84' '?' '83' '63' '73' '36' '27' '48' '71' '60'\n",
            " '34' '79' '62' '74' '32' '41' '70' '29' '5' '58' '35' '51' '22' '16' '44'\n",
            " '39' '47' '18' '17' '88' '56' '30' '45' '66' '52' '54' '80' '33' '38'\n",
            " '92' '67' '46' '13' '89' '61' '49' '26' '57' '31' '90' '81' '25' '37'\n",
            " '76' '87' '23' '55' '86' '98' '21' '97' '1' '6' '14' '82' '11' '19' '9'\n",
            " '12' '10' '8' '7' '4' '93']\n",
            "\t\n",
            "['M' 'F' '?']\n",
            "\t\n",
            "['f' 't']\n",
            "\t\n",
            "['f' 't']\n",
            "\t\n",
            "['f' 't']\n",
            "\t\n",
            "['f' 't']\n",
            "\t\n",
            "['f' 't']\n",
            "\t\n",
            "['f' 't']\n",
            "\t\n",
            "['f' 't']\n",
            "\t\n",
            "['f' 't']\n",
            "\t\n",
            "['f' 't']\n",
            "\t\n",
            "['f' 't']\n",
            "\t\n",
            "['f' 't']\n",
            "\t\n",
            "['y' 'n']\n",
            "\t\n",
            "['30' '145' '0' '430' '7.30' '138' '7.70' '21' '92' '48' '36' '15' '15.30'\n",
            " '25' '61' '28' '170' '54' '216' '56' '71' '46' '70' '34' '53' '9.40'\n",
            " '126' '10' '530' '35' '65' '57' '125' '23' '80' '117' '49' '66' '8.20'\n",
            " '150' '?' '18' '165' '164' '24' '90' '77' '19' '58' '100' '213' '17'\n",
            " '235' '153' '13' '31' '109' '260' '43' '12' '11' '55' '6.50' '20' '7.50'\n",
            " '14' '60' '140' '33' '8.70' '0.25' '10.70' '82' '45' '42' '41' '160' '16'\n",
            " '89' '44' '176' '6.40' '183' '29' '37' '39' '7.90' '59' '68' '38' '47'\n",
            " '143' '6.60' '288' '96' '0.50' '1.20' '1.90' '0.09' '3.10' '0.40' '0.85'\n",
            " '0.30' '0.90' '1.50' '4.60' '0.20' '5.80' '4' '1.40' '2' '2.60' '2.90'\n",
            " '0.80' '4.90' '10.30' '2.30' '0.70' '0.60' '1.30' '2.50' '5.10' '1.70'\n",
            " '2.70' '22' '8.10' '3.30' '5' '3.20' '1.80' '1.10' '0.46' '1' '5.60'\n",
            " '4.40' '16.50' '2.10' '6.30' '5.50' '7.40' '5.90' '0.15' '14.90' '2.20'\n",
            " '9.70' '9.60' '1.60' '3.70' '3' '2.80' '0.10' '4.20' '27' '3.50' '0.05'\n",
            " '19.20' '8' '9.10' '3.60' '7.80' '3.80' '8.50' '9.20' '52' '2.40' '3.90'\n",
            " '0.03' '0.04' '26' '6.10' '0.65' '0.92' '7.60' '8.40' '14.40' '1.05'\n",
            " '0.37' '178' '6.90' '4.50' '4.70' '40' '6' '4.10' '14.30' '5.40' '8.30'\n",
            " '0.06' '8.80' '8.90' '7.10' '4.80' '0.43' '6.70' '200' '8.60' '86' '0.21'\n",
            " '9' '0.26' '3.40' '6.20' '17.40' '85' '1.83' '63' '13.30' '0.02' '0.42'\n",
            " '9.50' '0.84' '0.88' '4.30' '0.67' '0.81' '5.20' '9.80' '76' '0.62'\n",
            " '0.01' '11.40' '88' '0.68' '0.07' '0.69' '0.77' '9.90' '0.64' '13.20'\n",
            " '6.80' '0.28' '11.60' '0.91' '1.01' '0.23' '0.35' '50' '32' '0.83' '0.08']\n",
            "\t\n",
            "['y' 'n']\n",
            "\t\n",
            "['0.60' '1.70' '0.20' '0.40' '1.20' '1.10' '1.30' '1.90' '?' '0.80' '2.20'\n",
            " '1.50' '2.70' '2' '0.30' '2.10' '0.50' '0.70' '1' '1.40' '2.30' '2.40'\n",
            " '0.90' '1.80' '0' '2.80' '1.60' '6.70' '3.30' '3' '2.50' '2.60' '4'\n",
            " '9.80' '3.90' '3.40' '3.80' '4.50' '3.20' '3.70' '4.30' '2.90' '3.10'\n",
            " '3.50' '3.60' '6.60' '4.90' '8.90' '4.10' '5' '5.30' '7.60' '7.30' '4.20'\n",
            " '4.40' '5.10' '7' '0.10' '0.05' '4.70' '6.20' '5.50' '4.60' '6.10' '8.10'\n",
            " '5.20' '5.60' '4.80' '10.20' '8.60']\n",
            "\t\n",
            "['y' 'n']\n",
            "\t\n",
            "['15' '19' '4' '6' '57' '27' '54' '34' '39' '7.60' '53' '38' '98' '44'\n",
            " '37' '81' '13' '17' '12' '50' '23' '14' '3.90' '52' '32' '30' '84' '10'\n",
            " '55' '24' '28' '11' '6.60' '31' '33' '41' '9' '78' '42' '8.10' '65' '16'\n",
            " '9.70' '46' '22' '61' '2.30' '21' '7.50' '18' '66' '25' '43' '2' '3' '58'\n",
            " '59' '71' '74' '56' '40' '20' '48' '230' '70' '4.10' '63' '5.30' '2.90'\n",
            " '62' '75' '68' '45' '47' '36' '80' '109' '8.60' '83' '82' '101' '76'\n",
            " '103' '112' '206' '110' '93' '79' '121' '?' '107' '88' '187' '254' '115'\n",
            " '113' '260' '117' '164' '97' '64' '129' '111' '106' '95' '87' '105' '90'\n",
            " '67' '134' '35' '193' '143' '130' '108' '86' '96' '92' '99' '216' '152'\n",
            " '125' '138' '194' '91' '120' '102' '170' '126' '116' '140' '94' '159'\n",
            " '85' '210' '89' '151' '247' '139' '153' '178' '123' '137' '161' '7.30'\n",
            " '72' '202' '122' '124' '157' '118' '104' '135' '186' '241' '131' '119'\n",
            " '100' '220' '176' '136' '183' '155' '208' '199' '154' '169' '128' '235'\n",
            " '195' '267' '232' '197' '212' '149' '127' '245' '132' '162' '77' '142'\n",
            " '69' '173' '141' '156' '181' '189' '60' '114' '198' '147' '191' '177'\n",
            " '174' '207' '168' '73' '160' '145' '200' '182' '158' '203' '209' '217'\n",
            " '430' '213' '218' '163' '296' '167' '148' '166' '185' '248' '172' '144'\n",
            " '150' '165' '196' '308' '146' '426' '224' '29' '204' '201' '133' '180'\n",
            " '184' '450' '244' '301' '255' '252' '396' '223' '261' '250' '179' '219'\n",
            " '190' '51' '221' '171' '242' '275' '211' '49' '239' '205' '222' '256'\n",
            " '214' '282' '287' '253' '269' '175' '228' '333' '258' '236' '225' '263'\n",
            " '283' '359' '188' '240']\n",
            "\t\n",
            "['y' 'n']\n",
            "\t\n",
            "['1.48' '1.13' '1' '1.04' '1.28' '1.19' '0.86' '1.05' '1.21' '1.02' '0.92'\n",
            " '1.29' '0.98' '1.08' '1.01' '1.18' '1.10' '1.27' '0.83' '1.11' '0.78'\n",
            " '1.39' '1.12' '0.93' '0.99' '0.90' '1.06' '0.68' '0.67' '1.14' '0.80'\n",
            " '0.96' '0.95' '1.46' '1.03' '0.97' '0.94' '1.09' '1.24' '1.23' '1.53'\n",
            " '1.26' '1.40' '1.17' '0.87' '0.61' '0.70' '1.07' '1.73' '1.45' '1.20'\n",
            " '0.89' '0.84' '0.91' '0.85' '1.35' '0.82' '1.50' '0.74' '1.71' '1.79'\n",
            " '0.73' '0.77' '1.25' '?' '0.88' '0.72' '0.31' '0' '0.79' '0.81' '0.71'\n",
            " '1.93' '1.32' '0.66' '1.68' '1.42' '1.70' '1.83' '1.41' '1.34' '1.65'\n",
            " '1.22' '0.75' '1.74' '0.69' '1.51' '0.76' '1.16' '0.35' '0.62' '0.54'\n",
            " '1.36' '1.33' '1.30' '0.48' '1.59' '1.75' '1.86' '1.38' '1.43' '1.62'\n",
            " '2.01' '0.30' '1.31' '1.15' '1.57' '0.55' '1.66' '0.52' '1.97' '1.47'\n",
            " '0.36' '1.88' '1.55' '0.34' '1.67' '0.58' '0.60' '0.59' '1.37' '1.76'\n",
            " '0.64' '1.80' '0.41' '0.20' '1.77' '0.33' '1.54' '0.46' '0.32' '1.44'\n",
            " '1.56' '0.56' '1.52' '2.03' '0.65' '0.63' '1.96' '0.53' '0.47' '0.29'\n",
            " '2.21' '1.69' '1.64' '1.49' '1.72' '1.58' '0.57' '1.61' '0.28' '2' '1.63'\n",
            " '0.27' '1.94' '0.50' '0.49' '0.40' '0.38']\n",
            "\t\n",
            "['y' 'n']\n",
            "\t\n",
            "['10' '17' '0' '6' '44' '23' '63' '32' '7.50' '61' '41' '76' '45' '34'\n",
            " '81' '11' '16' '46' '22' '12' '5' '47' '29' '37' '60' '8.40' '8.50' '24'\n",
            " '28' '7' '49' '36' '15' '9' '80' '53' '7.20' '68' '6.60' '48' '21' '14'\n",
            " '2' '20' '1.40' '56' '3' '51' '13' '43' '78' '52' '64' '26' '35' '31'\n",
            " '133' '3.40' '54' '8.90' '57' '5.50' '58' '55' '2.80' '66' '4' '40' '50'\n",
            " '8.70' '87' '89' '112' '123' '99' '92' '104' '69' '196' '107' '106' '74'\n",
            " '97' '?' '122' '84' '114' '124' '241' '119' '120' '136' '85' '127' '839'\n",
            " '137' '197' '96' '77' '108' '82' '72' '94' '91' '240' '121' '109' '79'\n",
            " '100' '98' '73' '117' '165' '103' '88' '101' '126' '132' '128' '143'\n",
            " '152' '141' '186' '113' '102' '125' '93' '105' '159' '188' '71' '149'\n",
            " '116' '83' '176' '161' '86' '140' '111' '158' '115' '171' '90' '95' '70'\n",
            " '135' '134' '178' '110' '170' '205' '695' '155' '118' '741' '131' '129'\n",
            " '142' '153' '75' '254' '246' '139' '185' '157' '147' '164' '130' '222'\n",
            " '650' '174' '182' '144' '169' '257' '145' '345' '180' '167' '151' '154'\n",
            " '150' '219' '228' '65' '187' '166' '195' '208' '138' '33' '173' '146'\n",
            " '211' '181' '190' '247' '221' '395' '216' '212' '148' '162' '220' '370'\n",
            " '450' '160' '59' '189' '203' '168' '179' '264' '470' '184' '163' '67'\n",
            " '213' '354' '292' '359' '172' '156' '334' '177' '214' '194' '192' '215'\n",
            " '217' '271' '250' '244' '308' '881' '258' '316' '200' '711' '256' '232'\n",
            " '202' '39' '248' '237' '259' '445' '19' '852' '42' '235' '634' '283'\n",
            " '305' '204' '229' '332' '550' '249' '263' '615' '266' '198' '175' '209'\n",
            " '299' '193' '227' '223' '337' '210' '272' '702' '218' '239' '355' '482'\n",
            " '347' '485' '612' '428']\n",
            "\t\n",
            "['n' 'y']\n",
            "\t\n",
            "['?' '28' '34' '0' '19' '30' '25' '48' '39' '31' '16' '21' '37' '40' '27'\n",
            " '3.10' '38' '108' '20' '36' '17' '23' '35' '32' '63' '9.30' '15' '26'\n",
            " '33' '41' '110' '22' '43' '53' '80' '47' '29' '13' '24' '18' '45' '86'\n",
            " '50' '8.40' '52' '11' '12' '14' '65' '7.30' '8.50' '69' '122']\n"
          ],
          "name": "stdout"
        }
      ]
    },
    {
      "cell_type": "markdown",
      "metadata": {
        "id": "VJhkfJvklHgN"
      },
      "source": [
        "We now replace '?' values in dataset with NaN values so that it becomes easy to count them"
      ]
    },
    {
      "cell_type": "code",
      "metadata": {
        "id": "UTZMWdXwTrJU"
      },
      "source": [
        "hyp.replace('?',np.nan,inplace=True)"
      ],
      "execution_count": 12,
      "outputs": []
    },
    {
      "cell_type": "code",
      "metadata": {
        "id": "-R3emHAN63lY"
      },
      "source": [
        "# Convert Age, TSH, T3, TT4, T4U, FTI to numerical(Float)\n",
        "hyp[[\"age\", \"TSH\", \"T3\", \"TT4\", \"T4U\", \"FTI\",\"TBG\"]] = hyp[[\"age\", \"TSH\", \"T3\", \"TT4\", \"T4U\", \"FTI\",\"TBG\"]].astype(float)"
      ],
      "execution_count": 14,
      "outputs": []
    },
    {
      "cell_type": "code",
      "metadata": {
        "id": "Qi7KZvrhFqp_"
      },
      "source": [
        "# Converting to categorical data\n",
        "hyp[[\"status\",\"sex\",\"on_thyroxine\",\"query_on_thyroxine\",\"on_antithyroid_medication\",\"thyroid_surgery\",\"query_hypothyroid\",\"query_hyperthyroid\",\"pregnant\",\"sick\",\"tumor\",\"lithium\",\"goitre\",\"TSH_measured\",\"T3_measured\",\"TT4_measured\",\"T4U_measured\",\"FTI_measured\",\"TBG_measured\"]] = hyp[[\"status\",\"sex\",\"on_thyroxine\",\"query_on_thyroxine\",\"on_antithyroid_medication\",\"thyroid_surgery\",\"query_hypothyroid\",\"query_hyperthyroid\",\"pregnant\",\"sick\",\"tumor\",\"lithium\",\"goitre\",\"TSH_measured\",\"T3_measured\",\"TT4_measured\",\"T4U_measured\",\"FTI_measured\",\"TBG_measured\"]].astype('category')"
      ],
      "execution_count": 13,
      "outputs": []
    },
    {
      "cell_type": "code",
      "metadata": {
        "id": "aRyyiJsjWWpl",
        "outputId": "f0e7dcf7-913c-4e6d-c66b-57d3671844fc",
        "colab": {
          "base_uri": "https://localhost:8080/",
          "height": 485
        }
      },
      "source": [
        "hyp.dtypes"
      ],
      "execution_count": 15,
      "outputs": [
        {
          "output_type": "execute_result",
          "data": {
            "text/plain": [
              "status                       category\n",
              "age                           float64\n",
              "sex                          category\n",
              "on_thyroxine                 category\n",
              "query_on_thyroxine           category\n",
              "on_antithyroid_medication    category\n",
              "thyroid_surgery              category\n",
              "query_hypothyroid            category\n",
              "query_hyperthyroid           category\n",
              "pregnant                     category\n",
              "sick                         category\n",
              "tumor                        category\n",
              "lithium                      category\n",
              "goitre                       category\n",
              "TSH_measured                 category\n",
              "TSH                           float64\n",
              "T3_measured                  category\n",
              "T3                            float64\n",
              "TT4_measured                 category\n",
              "TT4                           float64\n",
              "T4U_measured                 category\n",
              "T4U                           float64\n",
              "FTI_measured                 category\n",
              "FTI                           float64\n",
              "TBG_measured                 category\n",
              "TBG                           float64\n",
              "dtype: object"
            ]
          },
          "metadata": {
            "tags": []
          },
          "execution_count": 15
        }
      ]
    },
    {
      "cell_type": "code",
      "metadata": {
        "id": "sZjhOsxPXGih"
      },
      "source": [
        "hyp['sex'] = hyp['sex'].fillna(hyp['sex'].mode()[0])"
      ],
      "execution_count": 16,
      "outputs": []
    },
    {
      "cell_type": "code",
      "metadata": {
        "id": "rW8kWGX0XOV1",
        "outputId": "c476f748-400d-48bc-b17a-750bb402dad4",
        "colab": {
          "base_uri": "https://localhost:8080/",
          "height": 52
        }
      },
      "source": [
        "hyp[\"sex\"].unique()"
      ],
      "execution_count": 17,
      "outputs": [
        {
          "output_type": "execute_result",
          "data": {
            "text/plain": [
              "['M', 'F']\n",
              "Categories (2, object): ['M', 'F']"
            ]
          },
          "metadata": {
            "tags": []
          },
          "execution_count": 17
        }
      ]
    },
    {
      "cell_type": "markdown",
      "metadata": {
        "id": "6Onh511vlexN"
      },
      "source": [
        "Replacing the NaN values with appropriate values"
      ]
    },
    {
      "cell_type": "code",
      "metadata": {
        "id": "m985HBlSXmzg"
      },
      "source": [
        "# fill the null values with the  mode\n",
        "hyp['age'] = hyp['age'].fillna(hyp['age'].mode()[0])\n",
        "hyp['TSH'] = hyp['TSH'].fillna(hyp['TSH'].mode()[0])\n",
        "hyp['T3'] = hyp['T3'].fillna(hyp['T3'].mode()[0])\n",
        "hyp['TT4'] = hyp['TT4'].fillna(hyp['TT4'].mode()[0])\n",
        "hyp['FTI'] = hyp['FTI'].fillna(hyp['FTI'].mode()[0])\n",
        "hyp['TBG'] = hyp['TBG'].fillna(hyp['TBG'].mode()[0])                                \n",
        "hyp['T4U'] = hyp['T4U'].fillna(hyp['T4U'].mode()[0])                      \n",
        "                                "
      ],
      "execution_count": 18,
      "outputs": []
    },
    {
      "cell_type": "code",
      "metadata": {
        "id": "fX0iGyOBYW8X"
      },
      "source": [
        "# fill the null values with the  mode\n",
        "hyp['lithium'] = hyp['lithium'].fillna(hyp['lithium'].mode()[0])\n",
        "hyp['goitre'] = hyp['goitre'].fillna(hyp['goitre'].mode()[0])\n",
        "hyp['on_thyroxine'] = hyp['on_thyroxine'].fillna(hyp['on_thyroxine'].mode()[0])\n",
        "hyp['query_on_thyroxine'] = hyp['query_on_thyroxine'].fillna(hyp['query_on_thyroxine'].mode()[0])\n",
        "hyp['on_antithyroid_medication'] = hyp['on_antithyroid_medication'].fillna(hyp['on_antithyroid_medication'].mode()[0])\n",
        "hyp['thyroid_surgery'] = hyp['thyroid_surgery'].fillna(hyp['thyroid_surgery'].mode()[0])                                \n",
        "hyp['query_hypothyroid'] = hyp['query_hypothyroid'].fillna(hyp['query_hypothyroid'].mode()[0]) \n",
        "hyp['query_hyperthyroid'] = hyp['query_hyperthyroid'].fillna(hyp['query_hyperthyroid'].mode()[0]) \n",
        "hyp['pregnant'] = hyp['pregnant'].fillna(hyp['pregnant'].mode()[0])  \n",
        "hyp['sick'] = hyp['sick'].fillna(hyp['sick'].mode()[0])   \n",
        "hyp['tumor'] = hyp['tumor'].fillna(hyp['tumor'].mode()[0]) \n",
        "hyp['TBG_measured'] = hyp['TBG_measured'].fillna(hyp['TBG_measured'].mode()[0]) \n",
        "hyp['status'] = hyp['status'].fillna(hyp['status'].mode()[0]) \n",
        "hyp['TSH_measured'] = hyp['TSH_measured'].fillna(hyp['TSH_measured'].mode()[0])   \n",
        "hyp['T3_measured'] = hyp['T3_measured'].fillna(hyp['T3_measured'].mode()[0])\n",
        "hyp['TT4_measured'] = hyp['TT4_measured'].fillna(hyp['TT4_measured'].mode()[0])\n",
        "hyp['T4U_measured'] = hyp['T4U_measured'].fillna(hyp['T4U_measured'].mode()[0])\n",
        "hyp['FTI_measured'] = hyp['FTI_measured'].fillna(hyp['FTI_measured'].mode()[0])\n",
        "hyp['sex'] = hyp['sex'].fillna(hyp['sex'].mode()[0])\n",
        "\n",
        "                                "
      ],
      "execution_count": 19,
      "outputs": []
    },
    {
      "cell_type": "code",
      "metadata": {
        "id": "0_TlhwNnJZh8",
        "outputId": "ce474ec9-82e3-48d5-fab9-89358f037d07",
        "colab": {
          "base_uri": "https://localhost:8080/",
          "height": 485
        }
      },
      "source": [
        "#checking for null values after converting ? into NAN\n",
        "hyp.isnull().sum().sort_values(ascending=False)"
      ],
      "execution_count": 20,
      "outputs": [
        {
          "output_type": "execute_result",
          "data": {
            "text/plain": [
              "TBG                          0\n",
              "TBG_measured                 0\n",
              "age                          0\n",
              "sex                          0\n",
              "on_thyroxine                 0\n",
              "query_on_thyroxine           0\n",
              "on_antithyroid_medication    0\n",
              "thyroid_surgery              0\n",
              "query_hypothyroid            0\n",
              "query_hyperthyroid           0\n",
              "pregnant                     0\n",
              "sick                         0\n",
              "tumor                        0\n",
              "lithium                      0\n",
              "goitre                       0\n",
              "TSH_measured                 0\n",
              "TSH                          0\n",
              "T3_measured                  0\n",
              "T3                           0\n",
              "TT4_measured                 0\n",
              "TT4                          0\n",
              "T4U_measured                 0\n",
              "T4U                          0\n",
              "FTI_measured                 0\n",
              "FTI                          0\n",
              "status                       0\n",
              "dtype: int64"
            ]
          },
          "metadata": {
            "tags": []
          },
          "execution_count": 20
        }
      ]
    },
    {
      "cell_type": "code",
      "metadata": {
        "id": "OaIhU6QAJ5QD",
        "outputId": "9af96062-5048-48ac-c8ae-93994370ae8f",
        "colab": {
          "base_uri": "https://localhost:8080/",
          "height": 404
        }
      },
      "source": [
        "# check for outliers for the\n",
        "colu = hyp[[\"TSH\", \"T3\", \"TT4\", \"T4U\", \"FTI\",\"TBG\"]]\n",
        "# np.asarray(colu).reshape()\n",
        "# check for outliers\n",
        "plt.figure(dpi = 100)\n",
        "ax = sns.boxplot(data = colu , orient=\"h\")\n",
        "plt.title('A boxplot: Outliers in the dataset', color = 'blue')\n",
        "plt.xlabel('Count/ Frequency')\n",
        "plt.show()"
      ],
      "execution_count": 21,
      "outputs": [
        {
          "output_type": "display_data",
          "data": {
            "image/png": "[encoded data removed]",
            "text/plain": [
              "<Figure size 600x400 with 1 Axes>"
            ]
          },
          "metadata": {
            "tags": [],
            "needs_background": "light"
          }
        }
      ]
    },
    {
      "cell_type": "markdown",
      "metadata": {
        "id": "Dh7TWkDdK92p"
      },
      "source": [
        "There is a lot of outliers in FTI"
      ]
    },
    {
      "cell_type": "code",
      "metadata": {
        "id": "1lnxCxPIxxQh",
        "outputId": "b79250ff-0da3-41e7-ba46-7c8339f1044c",
        "colab": {
          "base_uri": "https://localhost:8080/",
          "height": 69
        }
      },
      "source": [
        "##counting the number of status in the dataset\n",
        "hyp['status'].value_counts()"
      ],
      "execution_count": 22,
      "outputs": [
        {
          "output_type": "execute_result",
          "data": {
            "text/plain": [
              "negative       3012\n",
              "hypothyroid     151\n",
              "Name: status, dtype: int64"
            ]
          },
          "metadata": {
            "tags": []
          },
          "execution_count": 22
        }
      ]
    },
    {
      "cell_type": "code",
      "metadata": {
        "id": "8c9yjSj9464f",
        "outputId": "8f40a1ca-15a9-43e8-d2a0-7d37041ba5e5",
        "colab": {
          "base_uri": "https://localhost:8080/",
          "height": 69
        }
      },
      "source": [
        "#counting the number f and t in on_thyroxine\n",
        "hyp['on_thyroxine'].value_counts()"
      ],
      "execution_count": 23,
      "outputs": [
        {
          "output_type": "execute_result",
          "data": {
            "text/plain": [
              "f    2702\n",
              "t     461\n",
              "Name: on_thyroxine, dtype: int64"
            ]
          },
          "metadata": {
            "tags": []
          },
          "execution_count": 23
        }
      ]
    },
    {
      "cell_type": "code",
      "metadata": {
        "id": "I3dwGlzQ5ES8",
        "outputId": "3f7d8c45-b189-45d4-b936-bcbd2c77548a",
        "colab": {
          "base_uri": "https://localhost:8080/",
          "height": 69
        }
      },
      "source": [
        "#counting the number f and t in query_on_thyroxine\n",
        "hyp['query_on_thyroxine'].value_counts()"
      ],
      "execution_count": 24,
      "outputs": [
        {
          "output_type": "execute_result",
          "data": {
            "text/plain": [
              "f    3108\n",
              "t      55\n",
              "Name: query_on_thyroxine, dtype: int64"
            ]
          },
          "metadata": {
            "tags": []
          },
          "execution_count": 24
        }
      ]
    },
    {
      "cell_type": "code",
      "metadata": {
        "id": "tFUlLPvs5Q6l",
        "outputId": "338d0e06-a358-402a-eca4-f84d38b78a7c",
        "colab": {
          "base_uri": "https://localhost:8080/",
          "height": 69
        }
      },
      "source": [
        "#counting the number f and t in 'goitre\n",
        "hyp['goitre'].value_counts()"
      ],
      "execution_count": 25,
      "outputs": [
        {
          "output_type": "execute_result",
          "data": {
            "text/plain": [
              "f    3064\n",
              "t      99\n",
              "Name: goitre, dtype: int64"
            ]
          },
          "metadata": {
            "tags": []
          },
          "execution_count": 25
        }
      ]
    },
    {
      "cell_type": "code",
      "metadata": {
        "id": "_EGuRaSNyh8A",
        "outputId": "79093d39-f55b-40bf-ac63-8822fdb79d17",
        "colab": {
          "base_uri": "https://localhost:8080/",
          "height": 173
        }
      },
      "source": [
        "hyp['age'].describe()"
      ],
      "execution_count": 26,
      "outputs": [
        {
          "output_type": "execute_result",
          "data": {
            "text/plain": [
              "count    3163.000000\n",
              "mean       52.260512\n",
              "std        18.089308\n",
              "min         1.000000\n",
              "25%        38.000000\n",
              "50%        58.000000\n",
              "75%        64.000000\n",
              "max        98.000000\n",
              "Name: age, dtype: float64"
            ]
          },
          "metadata": {
            "tags": []
          },
          "execution_count": 26
        }
      ]
    },
    {
      "cell_type": "markdown",
      "metadata": {
        "id": "oRfxADNcJHM3"
      },
      "source": [
        "There is no missing values in our dataset after cleaning the data "
      ]
    },
    {
      "cell_type": "code",
      "metadata": {
        "id": "UOTsecOrJUf9",
        "outputId": "856c22ce-eccd-4c99-8b8e-81d747ee3033",
        "colab": {
          "base_uri": "https://localhost:8080/",
          "height": 35
        }
      },
      "source": [
        "#checking for duplicated values in the dataset after through cleaning \n",
        "hyp.duplicated().sum()"
      ],
      "execution_count": 27,
      "outputs": [
        {
          "output_type": "execute_result",
          "data": {
            "text/plain": [
              "78"
            ]
          },
          "metadata": {
            "tags": []
          },
          "execution_count": 27
        }
      ]
    },
    {
      "cell_type": "code",
      "metadata": {
        "id": "NTr022D5JiB_"
      },
      "source": [
        "#hyp1_dup = hyp.drop_duplicates(keep=False)"
      ],
      "execution_count": null,
      "outputs": []
    },
    {
      "cell_type": "code",
      "metadata": {
        "id": "3KYRacwAJqE0"
      },
      "source": [
        "#hyp1_dup.duplicated().sum()"
      ],
      "execution_count": null,
      "outputs": []
    },
    {
      "cell_type": "code",
      "metadata": {
        "id": "cs0KRKmoNmqO",
        "outputId": "58d0dcfb-9010-41e1-99d6-57ed85b12532",
        "colab": {
          "base_uri": "https://localhost:8080/",
          "height": 260
        }
      },
      "source": [
        "# Convert the data type for 'Type' column from object to category\n",
        "hyp['sex'] = hyp['sex'].astype('category')\n",
        "\n",
        "# Convert each value in the 'Type' column into a number. This will be our target column\n",
        "#type_label =recipes['Type'].cat.codes\n",
        "#print(type_label)\n",
        "\n",
        "#converting gender into 1 and 0\n",
        "hyp['sex'] = hyp['sex'].cat.codes\n",
        "print(hyp)"
      ],
      "execution_count": 28,
      "outputs": [
        {
          "output_type": "stream",
          "text": [
            "           status   age  sex  ...    FTI TBG_measured   TBG\n",
            "0     hypothyroid  72.0    1  ...   10.0            n  28.0\n",
            "1     hypothyroid  15.0    0  ...   17.0            n  28.0\n",
            "2     hypothyroid  24.0    1  ...    0.0            n  28.0\n",
            "3     hypothyroid  24.0    0  ...    6.0            n  28.0\n",
            "4     hypothyroid  77.0    1  ...   44.0            n  28.0\n",
            "...           ...   ...  ...  ...    ...          ...   ...\n",
            "3158     negative  58.0    0  ...   95.0            n  28.0\n",
            "3159     negative  29.0    0  ...   98.0            n  28.0\n",
            "3160     negative  77.0    1  ...  104.0            n  28.0\n",
            "3161     negative  74.0    0  ...  137.0            n  28.0\n",
            "3162     negative  56.0    0  ...  143.0            n  28.0\n",
            "\n",
            "[3163 rows x 26 columns]\n"
          ],
          "name": "stdout"
        }
      ]
    },
    {
      "cell_type": "code",
      "metadata": {
        "id": "k0n6hkwXQB9G"
      },
      "source": [
        "hyp=hyp.replace({\"t\":1,\"f\":0})"
      ],
      "execution_count": 29,
      "outputs": []
    },
    {
      "cell_type": "code",
      "metadata": {
        "id": "RNg3kjpBQTnD",
        "outputId": "164936ac-1865-4ac3-aa7b-660f5f8e9234",
        "colab": {
          "base_uri": "https://localhost:8080/",
          "height": 260
        }
      },
      "source": [
        "hyp=hyp.replace({\"y\":1,\"n\":0})\n",
        "print(hyp)"
      ],
      "execution_count": 30,
      "outputs": [
        {
          "output_type": "stream",
          "text": [
            "           status   age  sex  ...    FTI  TBG_measured   TBG\n",
            "0     hypothyroid  72.0    1  ...   10.0             0  28.0\n",
            "1     hypothyroid  15.0    0  ...   17.0             0  28.0\n",
            "2     hypothyroid  24.0    1  ...    0.0             0  28.0\n",
            "3     hypothyroid  24.0    0  ...    6.0             0  28.0\n",
            "4     hypothyroid  77.0    1  ...   44.0             0  28.0\n",
            "...           ...   ...  ...  ...    ...           ...   ...\n",
            "3158     negative  58.0    0  ...   95.0             0  28.0\n",
            "3159     negative  29.0    0  ...   98.0             0  28.0\n",
            "3160     negative  77.0    1  ...  104.0             0  28.0\n",
            "3161     negative  74.0    0  ...  137.0             0  28.0\n",
            "3162     negative  56.0    0  ...  143.0             0  28.0\n",
            "\n",
            "[3163 rows x 26 columns]\n"
          ],
          "name": "stdout"
        }
      ]
    },
    {
      "cell_type": "code",
      "metadata": {
        "id": "kyKRsUQ2nOZF",
        "outputId": "ea1d76ca-820d-48d2-b665-49645f3545b5",
        "colab": {
          "base_uri": "https://localhost:8080/",
          "height": 121
        }
      },
      "source": [
        "hyp.columns"
      ],
      "execution_count": 31,
      "outputs": [
        {
          "output_type": "execute_result",
          "data": {
            "text/plain": [
              "Index(['status', 'age', 'sex', 'on_thyroxine', 'query_on_thyroxine',\n",
              "       'on_antithyroid_medication', 'thyroid_surgery', 'query_hypothyroid',\n",
              "       'query_hyperthyroid', 'pregnant', 'sick', 'tumor', 'lithium', 'goitre',\n",
              "       'TSH_measured', 'TSH', 'T3_measured', 'T3', 'TT4_measured', 'TT4',\n",
              "       'T4U_measured', 'T4U', 'FTI_measured', 'FTI', 'TBG_measured', 'TBG'],\n",
              "      dtype='object')"
            ]
          },
          "metadata": {
            "tags": []
          },
          "execution_count": 31
        }
      ]
    },
    {
      "cell_type": "markdown",
      "metadata": {
        "id": "i_mNz4yBJwM-"
      },
      "source": [
        "The data is good for model building and evaluation "
      ]
    },
    {
      "cell_type": "markdown",
      "metadata": {
        "id": "cMJjq8Y7RAeD"
      },
      "source": [
        "##Modelling - Random Forest##\n",
        "\n",
        "split the dataset into train and test data. I have specified test_size as 20% "
      ]
    },
    {
      "cell_type": "code",
      "metadata": {
        "id": "FtWRYJqd94dn",
        "outputId": "a0ac168d-c04a-4541-a25d-0a4137183de0",
        "colab": {
          "base_uri": "https://localhost:8080/",
          "height": 35
        }
      },
      "source": [
        "# Split the independent and dependent variables\n",
        "X = hyp.iloc[:,1:]\n",
        "Y = hyp.iloc[:, 0]\n",
        "print(X.shape, Y.shape)"
      ],
      "execution_count": 32,
      "outputs": [
        {
          "output_type": "stream",
          "text": [
            "(3163, 25) (3163,)\n"
          ],
          "name": "stdout"
        }
      ]
    },
    {
      "cell_type": "code",
      "metadata": {
        "id": "GXqshYk8-XoC",
        "outputId": "3805bee3-1652-4e73-f476-637f6e3b9466",
        "colab": {
          "base_uri": "https://localhost:8080/",
          "height": 35
        }
      },
      "source": [
        "from sklearn.model_selection import train_test_split\n",
        "X_train,X_test,Y_train,Y_test = train_test_split(X,Y,test_size=0.2,random_state=42)\n",
        "print(X_train.shape, Y_train.shape)"
      ],
      "execution_count": 33,
      "outputs": [
        {
          "output_type": "stream",
          "text": [
            "(2530, 25) (2530,)\n"
          ],
          "name": "stdout"
        }
      ]
    },
    {
      "cell_type": "code",
      "metadata": {
        "id": "TZYXKMUW-nZj"
      },
      "source": [
        "from sklearn.preprocessing import StandardScaler\n",
        "scaler = StandardScaler()\n",
        "X_train = scaler.fit_transform(X_train)\n",
        "X_test = scaler.transform(X_test)"
      ],
      "execution_count": 34,
      "outputs": []
    },
    {
      "cell_type": "code",
      "metadata": {
        "id": "Ct6NB7TfR5ya",
        "outputId": "c965421b-c34e-4c3e-d827-ac3c0d336494",
        "colab": {
          "base_uri": "https://localhost:8080/",
          "height": 156
        }
      },
      "source": [
        "forest = RandomForestClassifier(n_estimators = 100, random_state=42, min_samples_split = 20, max_depth=5)\n",
        "forest.fit(X_train, Y_train)"
      ],
      "execution_count": 35,
      "outputs": [
        {
          "output_type": "execute_result",
          "data": {
            "text/plain": [
              "RandomForestClassifier(bootstrap=True, ccp_alpha=0.0, class_weight=None,\n",
              "                       criterion='gini', max_depth=5, max_features='auto',\n",
              "                       max_leaf_nodes=None, max_samples=None,\n",
              "                       min_impurity_decrease=0.0, min_impurity_split=None,\n",
              "                       min_samples_leaf=1, min_samples_split=20,\n",
              "                       min_weight_fraction_leaf=0.0, n_estimators=100,\n",
              "                       n_jobs=None, oob_score=False, random_state=42, verbose=0,\n",
              "                       warm_start=False)"
            ]
          },
          "metadata": {
            "tags": []
          },
          "execution_count": 35
        }
      ]
    },
    {
      "cell_type": "code",
      "metadata": {
        "id": "9w6MudihSDzd"
      },
      "source": [
        "# Predition\n",
        "y_pred = forest.predict(X_test)"
      ],
      "execution_count": 36,
      "outputs": []
    },
    {
      "cell_type": "code",
      "metadata": {
        "id": "dmTqKR6MSJR7"
      },
      "source": [
        "#metrics for performance and Evaluation\n",
        "from sklearn.metrics import classification_report, confusion_matrix, accuracy_score"
      ],
      "execution_count": 37,
      "outputs": []
    },
    {
      "cell_type": "code",
      "metadata": {
        "id": "6-vXNPw_SRJD",
        "outputId": "02fddc09-c52b-462d-88dd-c1536083dc9f",
        "colab": {
          "base_uri": "https://localhost:8080/",
          "height": 35
        }
      },
      "source": [
        "from sklearn import metrics\n",
        "# Model Accuracy, how often is the classifier correct?\n",
        "print(\"gradient_Accuracy:\",metrics.accuracy_score(Y_test, y_pred))"
      ],
      "execution_count": 38,
      "outputs": [
        {
          "output_type": "stream",
          "text": [
            "gradient_Accuracy: 0.9826224328593997\n"
          ],
          "name": "stdout"
        }
      ]
    },
    {
      "cell_type": "code",
      "metadata": {
        "id": "D4ZqpW9YSvJD",
        "outputId": "967b9d9f-30a4-47be-f7ec-96974afcdc02",
        "colab": {
          "base_uri": "https://localhost:8080/",
          "height": 72
        }
      },
      "source": [
        "from sklearn.tree import export_graphviz\n",
        "from sklearn.externals.six import StringIO  \n",
        "from IPython.display import Image  \n",
        "import pydotplus"
      ],
      "execution_count": 39,
      "outputs": [
        {
          "output_type": "stream",
          "text": [
            "/usr/local/lib/python3.6/dist-packages/sklearn/externals/six.py:31: FutureWarning: The module is deprecated in version 0.21 and will be removed in version 0.23 since we've dropped support for Python 2.7. Please rely on the official version of six (https://pypi.org/project/six/).\n",
            "  \"(https://pypi.org/project/six/).\", FutureWarning)\n"
          ],
          "name": "stderr"
        }
      ]
    },
    {
      "cell_type": "code",
      "metadata": {
        "id": "Ak88GytMSxWl",
        "outputId": "a5793fb0-6258-4f34-bd28-d3d0adfbef3a",
        "colab": {
          "base_uri": "https://localhost:8080/",
          "height": 442
        }
      },
      "source": [
        "# Performance of individual decision trees\n",
        "dot_data = StringIO()\n",
        "# pick a specific tree from the forest\n",
        "tree = forest.estimators_[50]\n",
        "\n",
        "export_graphviz(tree, out_file=dot_data,  \n",
        "                filled=True, rounded=True,\n",
        "                special_characters=True,feature_names = X.columns)\n",
        "graph = pydotplus.graph_from_dot_data(dot_data.getvalue())  \n",
        "graph.write_png('hypothyroid .png')\n",
        "Image(graph.create_png())"
      ],
      "execution_count": 40,
      "outputs": [
        {
          "output_type": "execute_result",
          "data": {
            "image/png": "[encoded data removed]",
            "text/plain": [
              "<IPython.core.display.Image object>"
            ]
          },
          "metadata": {
            "tags": []
          },
          "execution_count": 40
        }
      ]
    },
    {
      "cell_type": "code",
      "metadata": {
        "id": "5gzobGsPTLxC"
      },
      "source": [
        "# metrics for performance and Evaluation\n",
        "from sklearn.metrics import classification_report, confusion_matrix, accuracy_score"
      ],
      "execution_count": 41,
      "outputs": []
    },
    {
      "cell_type": "code",
      "metadata": {
        "id": "RP3rV0gwTNk9",
        "outputId": "2dcda08e-047d-42b5-f883-576a451f25cd",
        "colab": {
          "base_uri": "https://localhost:8080/",
          "height": 225
        }
      },
      "source": [
        "# Finding confusion matrics, accuracy score\n",
        "print(confusion_matrix(Y_test,y_pred))\n",
        "print(classification_report(Y_test,y_pred))\n",
        "print(accuracy_score(Y_test, y_pred))"
      ],
      "execution_count": 42,
      "outputs": [
        {
          "output_type": "stream",
          "text": [
            "[[ 27  10]\n",
            " [  1 595]]\n",
            "              precision    recall  f1-score   support\n",
            "\n",
            " hypothyroid       0.96      0.73      0.83        37\n",
            "    negative       0.98      1.00      0.99       596\n",
            "\n",
            "    accuracy                           0.98       633\n",
            "   macro avg       0.97      0.86      0.91       633\n",
            "weighted avg       0.98      0.98      0.98       633\n",
            "\n",
            "0.9826224328593997\n"
          ],
          "name": "stdout"
        }
      ]
    },
    {
      "cell_type": "markdown",
      "metadata": {
        "id": "KLd9eX5TTnMj"
      },
      "source": [
        "The model predict with accuracy of 98.26% after turning the parameters"
      ]
    },
    {
      "cell_type": "code",
      "metadata": {
        "id": "jXyu5b_eT-2p",
        "outputId": "16d9053b-a902-41c4-cb29-f3dba8050e66",
        "colab": {
          "base_uri": "https://localhost:8080/",
          "height": 505
        }
      },
      "source": [
        "  importances = list(tree.feature_importances_)\n",
        "\n",
        "  # We now use some Python magic to connect each feature with its importance\n",
        "  # List of tuples with variable and importance\n",
        "  feature_importances = [(feature, round(importance, 2)) for feature, importance in zip(X.columns, importances)]\n",
        "\n",
        "  print(feature_importances) #this already has all the information we need, but it can be tricky to see when there are too many features.\n",
        "  print()\n",
        "\n",
        "  # Nice to have: We can sort the values in descending order, since we care about the most important features first.\n",
        "  feature_importances = sorted(feature_importances, key = lambda x: x[1], reverse = True)\n",
        "\n",
        "  # Print out the feature and importances \n",
        "  [print('Variable: {:20} Importance: {}'.format(*pair)) for pair in feature_importances];"
      ],
      "execution_count": 43,
      "outputs": [
        {
          "output_type": "stream",
          "text": [
            "[('age', 0.01), ('sex', 0.0), ('on_thyroxine', 0.0), ('query_on_thyroxine', 0.0), ('on_antithyroid_medication', 0.0), ('thyroid_surgery', 0.0), ('query_hypothyroid', 0.0), ('query_hyperthyroid', 0.0), ('pregnant', 0.0), ('sick', 0.0), ('tumor', 0.0), ('lithium', 0.0), ('goitre', 0.0), ('TSH_measured', 0.0), ('TSH', 0.27), ('T3_measured', 0.0), ('T3', 0.19), ('TT4_measured', 0.0), ('TT4', 0.46), ('T4U_measured', 0.0), ('T4U', 0.06), ('FTI_measured', 0.0), ('FTI', 0.01), ('TBG_measured', 0.0), ('TBG', 0.0)]\n",
            "\n",
            "Variable: TT4                  Importance: 0.46\n",
            "Variable: TSH                  Importance: 0.27\n",
            "Variable: T3                   Importance: 0.19\n",
            "Variable: T4U                  Importance: 0.06\n",
            "Variable: age                  Importance: 0.01\n",
            "Variable: FTI                  Importance: 0.01\n",
            "Variable: sex                  Importance: 0.0\n",
            "Variable: on_thyroxine         Importance: 0.0\n",
            "Variable: query_on_thyroxine   Importance: 0.0\n",
            "Variable: on_antithyroid_medication Importance: 0.0\n",
            "Variable: thyroid_surgery      Importance: 0.0\n",
            "Variable: query_hypothyroid    Importance: 0.0\n",
            "Variable: query_hyperthyroid   Importance: 0.0\n",
            "Variable: pregnant             Importance: 0.0\n",
            "Variable: sick                 Importance: 0.0\n",
            "Variable: tumor                Importance: 0.0\n",
            "Variable: lithium              Importance: 0.0\n",
            "Variable: goitre               Importance: 0.0\n",
            "Variable: TSH_measured         Importance: 0.0\n",
            "Variable: T3_measured          Importance: 0.0\n",
            "Variable: TT4_measured         Importance: 0.0\n",
            "Variable: T4U_measured         Importance: 0.0\n",
            "Variable: FTI_measured         Importance: 0.0\n",
            "Variable: TBG_measured         Importance: 0.0\n",
            "Variable: TBG                  Importance: 0.0\n"
          ],
          "name": "stdout"
        }
      ]
    },
    {
      "cell_type": "markdown",
      "metadata": {
        "id": "gCBsWJNRUQTT"
      },
      "source": [
        "##The most important variables in the prediction of hypothyroid are TT4 , TSH and T3"
      ]
    },
    {
      "cell_type": "code",
      "metadata": {
        "id": "4ZEPueHMUwwe",
        "outputId": "2b3ff1e3-c042-4de7-dbb8-859977b17a27",
        "colab": {
          "base_uri": "https://localhost:8080/",
          "height": 418
        }
      },
      "source": [
        "# list of x locations for plotting\n",
        "x_values = list(range(len(importances)))\n",
        "# Make a bar chart\n",
        "plt.bar(x_values, importances, orientation = 'vertical')\n",
        "# Tick labels for x axis\n",
        "plt.xticks(x_values, X.columns, rotation='vertical')\n",
        "# Axis labels and title\n",
        "plt.ylabel('Importance'); plt.xlabel('Variable'); plt.title('Variable Importances');"
      ],
      "execution_count": 44,
      "outputs": [
        {
          "output_type": "display_data",
          "data": {
            "image/png": "[encoded data removed]",
            "text/plain": [
              "<Figure size 432x288 with 1 Axes>"
            ]
          },
          "metadata": {
            "tags": [],
            "needs_background": "light"
          }
        }
      ]
    },
    {
      "cell_type": "markdown",
      "metadata": {
        "id": "CJldAwYilSyK"
      },
      "source": [
        "##Ada Boost"
      ]
    },
    {
      "cell_type": "code",
      "metadata": {
        "id": "O7fhp8xRlVee",
        "outputId": "ca3b9cdd-5d2d-479a-c061-0cbe3e121f7e",
        "colab": {
          "base_uri": "https://localhost:8080/",
          "height": 314
        }
      },
      "source": [
        "#Adaptive Boosting\n",
        "hyp.describe()"
      ],
      "execution_count": 45,
      "outputs": [
        {
          "output_type": "execute_result",
          "data": {
            "text/html": [
              "<div>\n",
              "<style scoped>\n",
              "    .dataframe tbody tr th:only-of-type {\n",
              "        vertical-align: middle;\n",
              "    }\n",
              "\n",
              "    .dataframe tbody tr th {\n",
              "        vertical-align: top;\n",
              "    }\n",
              "\n",
              "    .dataframe thead th {\n",
              "        text-align: right;\n",
              "    }\n",
              "</style>\n",
              "<table border=\"1\" class=\"dataframe\">\n",
              "  <thead>\n",
              "    <tr style=\"text-align: right;\">\n",
              "      <th></th>\n",
              "      <th>age</th>\n",
              "      <th>sex</th>\n",
              "      <th>on_thyroxine</th>\n",
              "      <th>query_on_thyroxine</th>\n",
              "      <th>on_antithyroid_medication</th>\n",
              "      <th>thyroid_surgery</th>\n",
              "      <th>query_hypothyroid</th>\n",
              "      <th>query_hyperthyroid</th>\n",
              "      <th>pregnant</th>\n",
              "      <th>sick</th>\n",
              "      <th>tumor</th>\n",
              "      <th>lithium</th>\n",
              "      <th>goitre</th>\n",
              "      <th>TSH_measured</th>\n",
              "      <th>TSH</th>\n",
              "      <th>T3_measured</th>\n",
              "      <th>T3</th>\n",
              "      <th>TT4_measured</th>\n",
              "      <th>TT4</th>\n",
              "      <th>T4U_measured</th>\n",
              "      <th>T4U</th>\n",
              "      <th>FTI_measured</th>\n",
              "      <th>FTI</th>\n",
              "      <th>TBG_measured</th>\n",
              "      <th>TBG</th>\n",
              "    </tr>\n",
              "  </thead>\n",
              "  <tbody>\n",
              "    <tr>\n",
              "      <th>count</th>\n",
              "      <td>3163.000000</td>\n",
              "      <td>3163.000000</td>\n",
              "      <td>3163.000000</td>\n",
              "      <td>3163.000000</td>\n",
              "      <td>3163.000000</td>\n",
              "      <td>3163.000000</td>\n",
              "      <td>3163.000000</td>\n",
              "      <td>3163.000000</td>\n",
              "      <td>3163.000000</td>\n",
              "      <td>3163.000000</td>\n",
              "      <td>3163.000000</td>\n",
              "      <td>3163.000000</td>\n",
              "      <td>3163.000000</td>\n",
              "      <td>3163.000000</td>\n",
              "      <td>3163.000000</td>\n",
              "      <td>3163.000000</td>\n",
              "      <td>3163.000000</td>\n",
              "      <td>3163.000000</td>\n",
              "      <td>3163.000000</td>\n",
              "      <td>3163.000000</td>\n",
              "      <td>3163.000000</td>\n",
              "      <td>3163.000000</td>\n",
              "      <td>3163.000000</td>\n",
              "      <td>3163.000000</td>\n",
              "      <td>3163.000000</td>\n",
              "    </tr>\n",
              "    <tr>\n",
              "      <th>mean</th>\n",
              "      <td>52.260512</td>\n",
              "      <td>0.287069</td>\n",
              "      <td>0.145748</td>\n",
              "      <td>0.017389</td>\n",
              "      <td>0.013279</td>\n",
              "      <td>0.032880</td>\n",
              "      <td>0.076193</td>\n",
              "      <td>0.076826</td>\n",
              "      <td>0.019918</td>\n",
              "      <td>0.031299</td>\n",
              "      <td>0.012646</td>\n",
              "      <td>0.000632</td>\n",
              "      <td>0.031299</td>\n",
              "      <td>0.852039</td>\n",
              "      <td>5.046782</td>\n",
              "      <td>0.780272</td>\n",
              "      <td>1.865096</td>\n",
              "      <td>0.921277</td>\n",
              "      <td>107.995858</td>\n",
              "      <td>0.921593</td>\n",
              "      <td>0.978340</td>\n",
              "      <td>0.921910</td>\n",
              "      <td>114.039172</td>\n",
              "      <td>0.082200</td>\n",
              "      <td>28.269870</td>\n",
              "    </tr>\n",
              "    <tr>\n",
              "      <th>std</th>\n",
              "      <td>18.089308</td>\n",
              "      <td>0.452466</td>\n",
              "      <td>0.352909</td>\n",
              "      <td>0.130735</td>\n",
              "      <td>0.114483</td>\n",
              "      <td>0.178351</td>\n",
              "      <td>0.265349</td>\n",
              "      <td>0.266357</td>\n",
              "      <td>0.139740</td>\n",
              "      <td>0.174153</td>\n",
              "      <td>0.111760</td>\n",
              "      <td>0.025142</td>\n",
              "      <td>0.174153</td>\n",
              "      <td>0.355117</td>\n",
              "      <td>22.160083</td>\n",
              "      <td>0.414128</td>\n",
              "      <td>0.891612</td>\n",
              "      <td>0.269348</td>\n",
              "      <td>43.755469</td>\n",
              "      <td>0.268853</td>\n",
              "      <td>0.217513</td>\n",
              "      <td>0.268356</td>\n",
              "      <td>58.027055</td>\n",
              "      <td>0.274713</td>\n",
              "      <td>5.575519</td>\n",
              "    </tr>\n",
              "    <tr>\n",
              "      <th>min</th>\n",
              "      <td>1.000000</td>\n",
              "      <td>0.000000</td>\n",
              "      <td>0.000000</td>\n",
              "      <td>0.000000</td>\n",
              "      <td>0.000000</td>\n",
              "      <td>0.000000</td>\n",
              "      <td>0.000000</td>\n",
              "      <td>0.000000</td>\n",
              "      <td>0.000000</td>\n",
              "      <td>0.000000</td>\n",
              "      <td>0.000000</td>\n",
              "      <td>0.000000</td>\n",
              "      <td>0.000000</td>\n",
              "      <td>0.000000</td>\n",
              "      <td>0.000000</td>\n",
              "      <td>0.000000</td>\n",
              "      <td>0.000000</td>\n",
              "      <td>0.000000</td>\n",
              "      <td>2.000000</td>\n",
              "      <td>0.000000</td>\n",
              "      <td>0.000000</td>\n",
              "      <td>0.000000</td>\n",
              "      <td>0.000000</td>\n",
              "      <td>0.000000</td>\n",
              "      <td>0.000000</td>\n",
              "    </tr>\n",
              "    <tr>\n",
              "      <th>25%</th>\n",
              "      <td>38.000000</td>\n",
              "      <td>0.000000</td>\n",
              "      <td>0.000000</td>\n",
              "      <td>0.000000</td>\n",
              "      <td>0.000000</td>\n",
              "      <td>0.000000</td>\n",
              "      <td>0.000000</td>\n",
              "      <td>0.000000</td>\n",
              "      <td>0.000000</td>\n",
              "      <td>0.000000</td>\n",
              "      <td>0.000000</td>\n",
              "      <td>0.000000</td>\n",
              "      <td>0.000000</td>\n",
              "      <td>1.000000</td>\n",
              "      <td>0.000000</td>\n",
              "      <td>1.000000</td>\n",
              "      <td>1.500000</td>\n",
              "      <td>1.000000</td>\n",
              "      <td>85.000000</td>\n",
              "      <td>1.000000</td>\n",
              "      <td>0.860000</td>\n",
              "      <td>1.000000</td>\n",
              "      <td>92.000000</td>\n",
              "      <td>0.000000</td>\n",
              "      <td>28.000000</td>\n",
              "    </tr>\n",
              "    <tr>\n",
              "      <th>50%</th>\n",
              "      <td>58.000000</td>\n",
              "      <td>0.000000</td>\n",
              "      <td>0.000000</td>\n",
              "      <td>0.000000</td>\n",
              "      <td>0.000000</td>\n",
              "      <td>0.000000</td>\n",
              "      <td>0.000000</td>\n",
              "      <td>0.000000</td>\n",
              "      <td>0.000000</td>\n",
              "      <td>0.000000</td>\n",
              "      <td>0.000000</td>\n",
              "      <td>0.000000</td>\n",
              "      <td>0.000000</td>\n",
              "      <td>1.000000</td>\n",
              "      <td>0.400000</td>\n",
              "      <td>1.000000</td>\n",
              "      <td>1.600000</td>\n",
              "      <td>1.000000</td>\n",
              "      <td>100.000000</td>\n",
              "      <td>1.000000</td>\n",
              "      <td>0.980000</td>\n",
              "      <td>1.000000</td>\n",
              "      <td>105.000000</td>\n",
              "      <td>0.000000</td>\n",
              "      <td>28.000000</td>\n",
              "    </tr>\n",
              "    <tr>\n",
              "      <th>75%</th>\n",
              "      <td>64.000000</td>\n",
              "      <td>1.000000</td>\n",
              "      <td>0.000000</td>\n",
              "      <td>0.000000</td>\n",
              "      <td>0.000000</td>\n",
              "      <td>0.000000</td>\n",
              "      <td>0.000000</td>\n",
              "      <td>0.000000</td>\n",
              "      <td>0.000000</td>\n",
              "      <td>0.000000</td>\n",
              "      <td>0.000000</td>\n",
              "      <td>0.000000</td>\n",
              "      <td>0.000000</td>\n",
              "      <td>1.000000</td>\n",
              "      <td>1.800000</td>\n",
              "      <td>1.000000</td>\n",
              "      <td>2.200000</td>\n",
              "      <td>1.000000</td>\n",
              "      <td>124.000000</td>\n",
              "      <td>1.000000</td>\n",
              "      <td>1.050000</td>\n",
              "      <td>1.000000</td>\n",
              "      <td>126.000000</td>\n",
              "      <td>0.000000</td>\n",
              "      <td>28.000000</td>\n",
              "    </tr>\n",
              "    <tr>\n",
              "      <th>max</th>\n",
              "      <td>98.000000</td>\n",
              "      <td>1.000000</td>\n",
              "      <td>1.000000</td>\n",
              "      <td>1.000000</td>\n",
              "      <td>1.000000</td>\n",
              "      <td>1.000000</td>\n",
              "      <td>1.000000</td>\n",
              "      <td>1.000000</td>\n",
              "      <td>1.000000</td>\n",
              "      <td>1.000000</td>\n",
              "      <td>1.000000</td>\n",
              "      <td>1.000000</td>\n",
              "      <td>1.000000</td>\n",
              "      <td>1.000000</td>\n",
              "      <td>530.000000</td>\n",
              "      <td>1.000000</td>\n",
              "      <td>10.200000</td>\n",
              "      <td>1.000000</td>\n",
              "      <td>450.000000</td>\n",
              "      <td>1.000000</td>\n",
              "      <td>2.210000</td>\n",
              "      <td>1.000000</td>\n",
              "      <td>881.000000</td>\n",
              "      <td>1.000000</td>\n",
              "      <td>122.000000</td>\n",
              "    </tr>\n",
              "  </tbody>\n",
              "</table>\n",
              "</div>"
            ],
            "text/plain": [
              "               age          sex  ...  TBG_measured          TBG\n",
              "count  3163.000000  3163.000000  ...   3163.000000  3163.000000\n",
              "mean     52.260512     0.287069  ...      0.082200    28.269870\n",
              "std      18.089308     0.452466  ...      0.274713     5.575519\n",
              "min       1.000000     0.000000  ...      0.000000     0.000000\n",
              "25%      38.000000     0.000000  ...      0.000000    28.000000\n",
              "50%      58.000000     0.000000  ...      0.000000    28.000000\n",
              "75%      64.000000     1.000000  ...      0.000000    28.000000\n",
              "max      98.000000     1.000000  ...      1.000000   122.000000\n",
              "\n",
              "[8 rows x 25 columns]"
            ]
          },
          "metadata": {
            "tags": []
          },
          "execution_count": 45
        }
      ]
    },
    {
      "cell_type": "code",
      "metadata": {
        "id": "tVJFrZD4lxrQ",
        "outputId": "a09b17f6-9c1d-49c9-9e66-d0d9889bb00d",
        "colab": {
          "base_uri": "https://localhost:8080/",
          "height": 295
        }
      },
      "source": [
        "# Visualizing the set using the most important Features\n",
        "\n",
        "\n",
        "X= hyp[\"TT4\"]\n",
        "y = hyp[\"TSH\"]\n",
        "\n",
        "plt.figure()\n",
        "plt.scatter(X ,y, c='k',label=\"training sample\")\n",
        "plt.xlabel(\"TT4\")\n",
        "plt.ylabel(\"TSH\")\n",
        "plt.title(\"TWO IMPORTSNT FEATURES\")\n",
        "plt.legend()\n",
        "plt.show()"
      ],
      "execution_count": 46,
      "outputs": [
        {
          "output_type": "display_data",
          "data": {
            "image/png": "[encoded data removed]",
            "text/plain": [
              "<Figure size 432x288 with 1 Axes>"
            ]
          },
          "metadata": {
            "tags": [],
            "needs_background": "light"
          }
        }
      ]
    },
    {
      "cell_type": "code",
      "metadata": {
        "id": "VygH2-SQp2vW"
      },
      "source": [
        "# Importing ada boost classifier\n",
        "from sklearn.ensemble import AdaBoostClassifier"
      ],
      "execution_count": 47,
      "outputs": []
    },
    {
      "cell_type": "code",
      "metadata": {
        "id": "JTrIf-QPp_gu"
      },
      "source": [
        "#  Create adaboost classifer object\n",
        "abc = AdaBoostClassifier(n_estimators=60,\n",
        "                         learning_rate=1)"
      ],
      "execution_count": 48,
      "outputs": []
    },
    {
      "cell_type": "code",
      "metadata": {
        "id": "2RxndWTMqJAA"
      },
      "source": [
        "# Train Adaboost Classifer\n",
        "model = abc.fit(X_train, Y_train)"
      ],
      "execution_count": 50,
      "outputs": []
    },
    {
      "cell_type": "code",
      "metadata": {
        "id": "c4C1nUjCqOIJ"
      },
      "source": [
        "#Predict the response for test dataset\n",
        "y_predict = model.predict(X_test)"
      ],
      "execution_count": 51,
      "outputs": []
    },
    {
      "cell_type": "code",
      "metadata": {
        "id": "oaFRQuS9qUsx",
        "outputId": "63d3d466-cb0a-4178-f452-efe9e7eb8929",
        "colab": {
          "base_uri": "https://localhost:8080/",
          "height": 35
        }
      },
      "source": [
        "# Model Accuracy, how often is the classifier correct?\n",
        "from sklearn import metrics\n",
        "print(\"Accuracy:\",metrics.accuracy_score(Y_test, y_predict))"
      ],
      "execution_count": 53,
      "outputs": [
        {
          "output_type": "stream",
          "text": [
            "Accuracy: 0.990521327014218\n"
          ],
          "name": "stdout"
        }
      ]
    },
    {
      "cell_type": "markdown",
      "metadata": {
        "id": "fUo-rJIoq68f"
      },
      "source": [
        "The model Adaboost has an accuracy of 99%\n",
        " "
      ]
    },
    {
      "cell_type": "code",
      "metadata": {
        "id": "3HbUAn6CrIYg",
        "outputId": "08975c26-c872-43f8-e902-8a1ea8171488",
        "colab": {
          "base_uri": "https://localhost:8080/",
          "height": 52
        }
      },
      "source": [
        "# Confusion matrix\n",
        "\n",
        "conf_matrix = metrics.confusion_matrix(Y_test,y_predict)\n",
        "conf_matrix"
      ],
      "execution_count": 55,
      "outputs": [
        {
          "output_type": "execute_result",
          "data": {
            "text/plain": [
              "array([[ 32,   5],\n",
              "       [  1, 595]])"
            ]
          },
          "metadata": {
            "tags": []
          },
          "execution_count": 55
        }
      ]
    },
    {
      "cell_type": "code",
      "metadata": {
        "id": "hyAXG4nPrVJ-",
        "outputId": "3f00dd13-8925-4b65-dd9e-1702c3f79059",
        "colab": {
          "base_uri": "https://localhost:8080/",
          "height": 225
        }
      },
      "source": [
        "# Finding confusion matrics, accuracy score\n",
        "print(confusion_matrix(Y_test,y_predict))\n",
        "print(classification_report(Y_test,y_predict))\n",
        "print(metrics.accuracy_score(Y_test, y_predict))"
      ],
      "execution_count": 57,
      "outputs": [
        {
          "output_type": "stream",
          "text": [
            "[[ 32   5]\n",
            " [  1 595]]\n",
            "              precision    recall  f1-score   support\n",
            "\n",
            " hypothyroid       0.97      0.86      0.91        37\n",
            "    negative       0.99      1.00      0.99       596\n",
            "\n",
            "    accuracy                           0.99       633\n",
            "   macro avg       0.98      0.93      0.95       633\n",
            "weighted avg       0.99      0.99      0.99       633\n",
            "\n",
            "0.990521327014218\n"
          ],
          "name": "stdout"
        }
      ]
    },
    {
      "cell_type": "markdown",
      "metadata": {
        "id": "UyaDNX-IsAh4"
      },
      "source": [
        "##Adaboost is giving accuracy of 99%"
      ]
    },
    {
      "cell_type": "markdown",
      "metadata": {
        "id": "C017SRCysIA8"
      },
      "source": [
        "##Support Vector Machines"
      ]
    },
    {
      "cell_type": "code",
      "metadata": {
        "id": "R6p6wVQ0t4ok"
      },
      "source": [
        "tsh_and_tt4 = hyp[['TSH', 'TT4']].values\n",
        "# Put a label of either a muffin or not and assign it 0 or 1\n",
        "type_label = np.where(hyp['status']=='hypothyroid',1,0)\n",
        "#type_label = hyp['status'].cat.codes"
      ],
      "execution_count": 75,
      "outputs": []
    },
    {
      "cell_type": "code",
      "metadata": {
        "id": "bdECgbqhsOi0",
        "outputId": "a19c556a-f258-4735-f9ae-9e1cf99a7330",
        "colab": {
          "base_uri": "https://localhost:8080/",
          "height": 35
        }
      },
      "source": [
        "#  Split the data into train and test set\n",
        "X_train, X_test, Y_train, y_test = train_test_split(X, Y, test_size = 0.2, random_state = 0)\n",
        "y_test.shape"
      ],
      "execution_count": 68,
      "outputs": [
        {
          "output_type": "execute_result",
          "data": {
            "text/plain": [
              "(633,)"
            ]
          },
          "metadata": {
            "tags": []
          },
          "execution_count": 68
        }
      ]
    },
    {
      "cell_type": "code",
      "metadata": {
        "id": "Ukfi813MaSQG",
        "outputId": "5c5f4a3d-2b07-4be2-8a3f-80fd8bfa89ba",
        "colab": {
          "base_uri": "https://localhost:8080/",
          "height": 35
        }
      },
      "source": [
        "X_test.shape"
      ],
      "execution_count": 71,
      "outputs": [
        {
          "output_type": "execute_result",
          "data": {
            "text/plain": [
              "(633,)"
            ]
          },
          "metadata": {
            "tags": []
          },
          "execution_count": 71
        }
      ]
    },
    {
      "cell_type": "code",
      "metadata": {
        "id": "94FLLXXOv_26",
        "outputId": "b140e061-9900-4e01-a3f8-d8bcf52746dc",
        "colab": {
          "base_uri": "https://localhost:8080/",
          "height": 438
        }
      },
      "source": [
        "# Stating the classification cretia\n",
        "sns.lmplot('TSH', 'TT4', data=hyp, hue='status',\n",
        "           palette='Set1', fit_reg=False, scatter_kws={\"s\": 70});"
      ],
      "execution_count": 69,
      "outputs": [
        {
          "output_type": "stream",
          "text": [
            "/usr/local/lib/python3.6/dist-packages/seaborn/_decorators.py:43: FutureWarning: Pass the following variables as keyword args: x, y. From version 0.12, the only valid positional argument will be `data`, and passing other arguments without an explicit keyword will result in an error or misinterpretation.\n",
            "  FutureWarning\n"
          ],
          "name": "stderr"
        },
        {
          "output_type": "display_data",
          "data": {
            "image/png": "[encoded data removed]",
            "text/plain": [
              "<Figure size 455.75x360 with 1 Axes>"
            ]
          },
          "metadata": {
            "tags": [],
            "needs_background": "light"
          }
        }
      ]
    },
    {
      "cell_type": "markdown",
      "metadata": {
        "id": "Pb1E2cNigf_m"
      },
      "source": [
        "##Linear"
      ]
    },
    {
      "cell_type": "code",
      "metadata": {
        "id": "3RMJFYMbsoxM",
        "outputId": "29a8dacf-f5c1-44b2-d781-9803b9a460e8",
        "colab": {
          "base_uri": "https://localhost:8080/",
          "height": 87
        }
      },
      "source": [
        "# Fitting the Model\n",
        "\n",
        "model = SVC(kernel= 'linear')\n",
        "model.fit(X_train,Y_train.ravel())"
      ],
      "execution_count": 78,
      "outputs": [
        {
          "output_type": "execute_result",
          "data": {
            "text/plain": [
              "SVC(C=1.0, break_ties=False, cache_size=200, class_weight=None, coef0=0.0,\n",
              "    decision_function_shape='ovr', degree=3, gamma='scale', kernel='linear',\n",
              "    max_iter=-1, probability=False, random_state=None, shrinking=True,\n",
              "    tol=0.001, verbose=False)"
            ]
          },
          "metadata": {
            "tags": []
          },
          "execution_count": 78
        }
      ]
    },
    {
      "cell_type": "code",
      "metadata": {
        "id": "ypa1u_tKwmzO"
      },
      "source": [
        "y_prediction_linear = model.predict(X_test)"
      ],
      "execution_count": 98,
      "outputs": []
    },
    {
      "cell_type": "code",
      "metadata": {
        "id": "LTgEO-yMc_yx",
        "outputId": "416c7cf3-9330-4c65-bf9e-64665ef7ce79",
        "colab": {
          "base_uri": "https://localhost:8080/",
          "height": 35
        }
      },
      "source": [
        "# Checking the accurancy of the model\n",
        "model_accuracy = accuracy_score(Y_test,y_prediction)\n",
        "model_accuracy"
      ],
      "execution_count": 85,
      "outputs": [
        {
          "output_type": "execute_result",
          "data": {
            "text/plain": [
              "0.9083728278041074"
            ]
          },
          "metadata": {
            "tags": []
          },
          "execution_count": 85
        }
      ]
    },
    {
      "cell_type": "markdown",
      "metadata": {
        "id": "O1ed93kzdJd0"
      },
      "source": [
        "The linear SVM model gives 90.8%"
      ]
    },
    {
      "cell_type": "code",
      "metadata": {
        "id": "IqXLLXiYdKZ7",
        "outputId": "654e1a8e-f0ca-49c0-bbb7-8bd95d5a2b97",
        "colab": {
          "base_uri": "https://localhost:8080/",
          "height": 225
        }
      },
      "source": [
        "# Finding confusion matrics, accuracy score\n",
        "print(confusion_matrix(Y_test,y_prediction))\n",
        "print(classification_report(Y_test,y_prediction))\n",
        "print(accuracy_score(Y_test, y_prediction))"
      ],
      "execution_count": 86,
      "outputs": [
        {
          "output_type": "stream",
          "text": [
            "[[  1  36]\n",
            " [ 22 574]]\n",
            "              precision    recall  f1-score   support\n",
            "\n",
            " hypothyroid       0.04      0.03      0.03        37\n",
            "    negative       0.94      0.96      0.95       596\n",
            "\n",
            "    accuracy                           0.91       633\n",
            "   macro avg       0.49      0.50      0.49       633\n",
            "weighted avg       0.89      0.91      0.90       633\n",
            "\n",
            "0.9083728278041074\n"
          ],
          "name": "stdout"
        }
      ]
    },
    {
      "cell_type": "markdown",
      "metadata": {
        "id": "01gf-r_Yfnc7"
      },
      "source": [
        "##Polynomial analysis "
      ]
    },
    {
      "cell_type": "code",
      "metadata": {
        "id": "ddvCRtzDfe1s",
        "outputId": "d3aa07b8-37ff-44fc-b9b3-06e752b14df3",
        "colab": {
          "base_uri": "https://localhost:8080/",
          "height": 87
        }
      },
      "source": [
        "\n",
        "model = SVC(kernel= 'poly')\n",
        "model.fit(X_train,Y_train.ravel())"
      ],
      "execution_count": 88,
      "outputs": [
        {
          "output_type": "execute_result",
          "data": {
            "text/plain": [
              "SVC(C=1.0, break_ties=False, cache_size=200, class_weight=None, coef0=0.0,\n",
              "    decision_function_shape='ovr', degree=3, gamma='scale', kernel='poly',\n",
              "    max_iter=-1, probability=False, random_state=None, shrinking=True,\n",
              "    tol=0.001, verbose=False)"
            ]
          },
          "metadata": {
            "tags": []
          },
          "execution_count": 88
        }
      ]
    },
    {
      "cell_type": "code",
      "metadata": {
        "id": "N48wkUm7fwmI"
      },
      "source": [
        "y_prediction_poly = model.predict(X_test)"
      ],
      "execution_count": 96,
      "outputs": []
    },
    {
      "cell_type": "code",
      "metadata": {
        "id": "kn5J_zuef3W2",
        "outputId": "109ea489-7422-4537-882f-23669e777117",
        "colab": {
          "base_uri": "https://localhost:8080/",
          "height": 35
        }
      },
      "source": [
        "# Checking the accurancy of the model\n",
        "model_accuracy = accuracy_score(Y_test,y_prediction)\n",
        "model_accuracy"
      ],
      "execution_count": 90,
      "outputs": [
        {
          "output_type": "execute_result",
          "data": {
            "text/plain": [
              "0.9004739336492891"
            ]
          },
          "metadata": {
            "tags": []
          },
          "execution_count": 90
        }
      ]
    },
    {
      "cell_type": "markdown",
      "metadata": {
        "id": "n6iM4JOXf_Nk"
      },
      "source": [
        "The polynomial accuracy is the same as linear accuracy "
      ]
    },
    {
      "cell_type": "markdown",
      "metadata": {
        "id": "uQL7b8c-gHRB"
      },
      "source": [
        "## rbf kernel "
      ]
    },
    {
      "cell_type": "code",
      "metadata": {
        "id": "EvO8iU6GgYY4",
        "outputId": "a1e49ae9-efb3-476b-b335-89224e6530e1",
        "colab": {
          "base_uri": "https://localhost:8080/",
          "height": 87
        }
      },
      "source": [
        "model = SVC(kernel= 'rbf')\n",
        "model.fit(X_train,Y_train.ravel())"
      ],
      "execution_count": 91,
      "outputs": [
        {
          "output_type": "execute_result",
          "data": {
            "text/plain": [
              "SVC(C=1.0, break_ties=False, cache_size=200, class_weight=None, coef0=0.0,\n",
              "    decision_function_shape='ovr', degree=3, gamma='scale', kernel='rbf',\n",
              "    max_iter=-1, probability=False, random_state=None, shrinking=True,\n",
              "    tol=0.001, verbose=False)"
            ]
          },
          "metadata": {
            "tags": []
          },
          "execution_count": 91
        }
      ]
    },
    {
      "cell_type": "code",
      "metadata": {
        "id": "W_ORN9FrgqeY"
      },
      "source": [
        "y_prediction_rbf = model.predict(X_test)"
      ],
      "execution_count": 95,
      "outputs": []
    },
    {
      "cell_type": "code",
      "metadata": {
        "id": "stzFzXe7gwdM",
        "outputId": "8c965c57-9a70-41ea-94f7-f9688e671092",
        "colab": {
          "base_uri": "https://localhost:8080/",
          "height": 35
        }
      },
      "source": [
        "# Checking the accurancy of the model\n",
        "model_accuracy = accuracy_score(Y_test,y_prediction)\n",
        "model_accuracy"
      ],
      "execution_count": 93,
      "outputs": [
        {
          "output_type": "execute_result",
          "data": {
            "text/plain": [
              "0.9083728278041074"
            ]
          },
          "metadata": {
            "tags": []
          },
          "execution_count": 93
        }
      ]
    },
    {
      "cell_type": "markdown",
      "metadata": {
        "id": "N69Jc-S2g1uq"
      },
      "source": [
        "rbf accuracy is the same as linear"
      ]
    },
    {
      "cell_type": "code",
      "metadata": {
        "id": "qZoqsU-udnYD",
        "outputId": "bcf2616a-7b52-4783-d5e9-c74302728f72",
        "colab": {
          "base_uri": "https://localhost:8080/",
          "height": 104
        }
      },
      "source": [
        "# Running all  models to check the accuracy\n",
        "\n",
        "# A summary of my accuracy score for different models that i used\n",
        "# print(\"Decison_Accuracy:\",metrics.accuracy_score(y_test, y_pred_decision))  \n",
        "print(\"random_Accuracy:\",metrics.accuracy_score(Y_test, y_pred))  \n",
        "print(\"adaboost_Accuracy:\",metrics.accuracy_score(Y_test, y_predict))\n",
        "print(\"svc_Accuracy with polynomial karnel:\",metrics.accuracy_score(Y_test, y_prediction_poly))\n",
        "print(\"svc_Accuracy with linear karnel:\",metrics.accuracy_score(Y_test, y_prediction_linear)) \n",
        "print(\"svc_1_Accuracy with rbf karnel:\",metrics.accuracy_score(Y_test, y_prediction_rbf))"
      ],
      "execution_count": 99,
      "outputs": [
        {
          "output_type": "stream",
          "text": [
            "random_Accuracy: 0.9826224328593997\n",
            "adaboost_Accuracy: 0.990521327014218\n",
            "svc_Accuracy with polynomial karnel: 0.9083728278041074\n",
            "svc_Accuracy with linear karnel: 0.9083728278041074\n",
            "svc_1_Accuracy with rbf karnel: 0.9083728278041074\n"
          ],
          "name": "stdout"
        }
      ]
    },
    {
      "cell_type": "markdown",
      "metadata": {
        "id": "z7MtL7PQeKoD"
      },
      "source": [
        "##Summary of the analysis "
      ]
    },
    {
      "cell_type": "markdown",
      "metadata": {
        "id": "W9oGsjPreQ2-"
      },
      "source": [
        "The model implemented in the analysis of this data \n",
        "\n",
        "Part 1 \n",
        "\n",
        "Decision tree : Random forest and Adaboost classifier \n",
        "\n",
        "Part 2\n",
        "\n",
        "Support Victor Machine (SVM) : Linear and polynomial "
      ]
    },
    {
      "cell_type": "markdown",
      "metadata": {
        "id": "T3ZS9TNKiYyQ"
      },
      "source": [
        "##Observation \n",
        "\n",
        "The model with the highest accuracy is the decission tree of Adaboost model type with 99% accuracy."
      ]
    }
  ]
}